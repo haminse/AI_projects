{
 "cells": [
  {
   "cell_type": "code",
   "execution_count": 1,
   "id": "dfa7c05a",
   "metadata": {},
   "outputs": [
    {
     "name": "stdout",
     "output_type": "stream",
     "text": [
      "PIL 라이브러리 import 완료!\n"
     ]
    }
   ],
   "source": [
    "#필요 모듈 import\n",
    "from PIL import Image\n",
    "import glob\n",
    "import os\n",
    "import matplotlib.pyplot as plt\n",
    "print(\"PIL 라이브러리 import 완료!\")"
   ]
  },
  {
   "cell_type": "code",
   "execution_count": 2,
   "id": "11962985",
   "metadata": {},
   "outputs": [
    {
     "name": "stdout",
     "output_type": "stream",
     "text": [
      "100  images to be resized.\n",
      "100  images resized.\n",
      "가위 이미지 resize 완료!\n"
     ]
    }
   ],
   "source": [
    "#가위 이미지 resize\n",
    "def resize_images(img_path):\n",
    "\timages=glob.glob(img_path + \"/*.jpg\")  \n",
    "    \n",
    "\tprint(len(images), \" images to be resized.\")\n",
    "\n",
    "    # 파일마다 모두 28x28 사이즈로 바꾸어 저장합니다.\n",
    "\ttarget_size=(28,28)\n",
    "\tfor img in images:\n",
    "\t\told_img=Image.open(img)\n",
    "\t\tnew_img=old_img.resize(target_size,Image.ANTIALIAS)\n",
    "\t\tnew_img.save(img, \"JPEG\")\n",
    "    \n",
    "\tprint(len(images), \" images resized.\")\n",
    "\t\n",
    "# 가위 이미지가 저장된 디렉토리 아래의 모든 jpg 파일을 읽어들여서\n",
    "image_dir_path = os.getenv(\"HOME\") + \"/aiffel/rock_scissor_paper/scissor\"\n",
    "resize_images(image_dir_path) #실제 이미지 바꾸기\n",
    "\n",
    "print(\"가위 이미지 resize 완료!\")"
   ]
  },
  {
   "cell_type": "code",
   "execution_count": 3,
   "id": "c261099a",
   "metadata": {},
   "outputs": [
    {
     "name": "stdout",
     "output_type": "stream",
     "text": [
      "100  images to be resized.\n",
      "100  images resized.\n"
     ]
    }
   ],
   "source": [
    "#바위 데이터 resize\n",
    "image_dir_path = os.getenv(\"HOME\") + \"/aiffel/rock_scissor_paper/rock\"\n",
    "resize_images(image_dir_path)"
   ]
  },
  {
   "cell_type": "code",
   "execution_count": 4,
   "id": "cc2ac5b6",
   "metadata": {},
   "outputs": [
    {
     "name": "stdout",
     "output_type": "stream",
     "text": [
      "100  images to be resized.\n",
      "100  images resized.\n"
     ]
    }
   ],
   "source": [
    "#보 데이터 resize\n",
    "image_dir_path = os.getenv(\"HOME\") + \"/aiffel/rock_scissor_paper/paper\"\n",
    "resize_images(image_dir_path)"
   ]
  },
  {
   "cell_type": "code",
   "execution_count": 5,
   "id": "1ed90d8d",
   "metadata": {},
   "outputs": [
    {
     "name": "stdout",
     "output_type": "stream",
     "text": [
      "학습데이터(x_train)의 이미지 개수는 300 입니다.\n",
      "x_train shape: (300, 28, 28, 3)\n",
      "y_train shape: (300,)\n"
     ]
    }
   ],
   "source": [
    "import numpy as np\n",
    "\n",
    "def load_data(img_path, number_of_data=300):  # 가위바위보 이미지 개수 총합에 주의하세요.\n",
    "    # 가위 : 0, 바위 : 1, 보 : 2\n",
    "    img_size=28\n",
    "    color=3\n",
    "    #이미지 데이터와 라벨(가위 : 0, 바위 : 1, 보 : 2) 데이터를 담을 행렬(matrix) 영역을 생성합니다.\n",
    "    imgs=np.zeros(number_of_data*img_size*img_size*color,dtype=np.int32).reshape(number_of_data,img_size,img_size,color)\n",
    "    labels=np.zeros(number_of_data,dtype=np.int32)\n",
    "\n",
    "    idx=0\n",
    "    for file in glob.iglob(img_path+'/scissor/*.jpg'):\n",
    "        img = np.array(Image.open(file),dtype=np.int32)\n",
    "        imgs[idx,:,:,:]=img    # 데이터 영역에 이미지 행렬을 복사\n",
    "        labels[idx]=0   # 가위 : 0\n",
    "        idx=idx+1\n",
    "\n",
    "    for file in glob.iglob(img_path+'/rock/*.jpg'):\n",
    "        img = np.array(Image.open(file),dtype=np.int32)\n",
    "        imgs[idx,:,:,:]=img    # 데이터 영역에 이미지 행렬을 복사\n",
    "        labels[idx]=1   # 바위 : 1\n",
    "        idx=idx+1  \n",
    "    \n",
    "    for file in glob.iglob(img_path+'/paper/*.jpg'):\n",
    "        img = np.array(Image.open(file),dtype=np.int32)\n",
    "        imgs[idx,:,:,:]=img    # 데이터 영역에 이미지 행렬을 복사\n",
    "        labels[idx]=2   # 보 : 2\n",
    "        idx=idx+1\n",
    "        \n",
    "    print(\"학습데이터(x_train)의 이미지 개수는\", idx,\"입니다.\")\n",
    "    return imgs, labels\n",
    "\n",
    "\n",
    "\n",
    "image_dir_path = os.getenv(\"HOME\") + \"/aiffel/rock_scissor_paper\"\n",
    "(x_train, y_train)=load_data(image_dir_path)\n",
    "x_train_norm = x_train/255.0   # 입력은 0~1 사이의 값으로 정규화\n",
    "x_train_reshaped = x_train_norm.reshape(-1, 28, 28, 3) #reshape\n",
    "\n",
    "\n",
    "print(\"x_train shape: {}\".format(x_train.shape))\n",
    "print(\"y_train shape: {}\".format(y_train.shape))\n",
    "\n"
   ]
  },
  {
   "cell_type": "code",
   "execution_count": 6,
   "id": "df0d7508",
   "metadata": {
    "scrolled": false
   },
   "outputs": [
    {
     "name": "stdout",
     "output_type": "stream",
     "text": [
      "라벨:  0\n"
     ]
    },
    {
     "data": {
      "image/png": "[encoded data removed]",
      "text/plain": [
       "<Figure size 432x288 with 1 Axes>"
      ]
     },
     "metadata": {
      "needs_background": "light"
     },
     "output_type": "display_data"
    }
   ],
   "source": [
    "#import matplotlib.pyplot as plt 해줘야 들어감. PIL이랑은 별개\n",
    "plt.imshow(x_train[0])\n",
    "print('라벨: ', y_train[0])"
   ]
  },
  {
   "cell_type": "code",
   "execution_count": 34,
   "id": "1bf74cf9",
   "metadata": {},
   "outputs": [
    {
     "name": "stdout",
     "output_type": "stream",
     "text": [
      "Model: \"sequential_25\"\n",
      "_________________________________________________________________\n",
      "Layer (type)                 Output Shape              Param #   \n",
      "=================================================================\n",
      "conv2d_75 (Conv2D)           (None, 26, 26, 32)        896       \n",
      "_________________________________________________________________\n",
      "max_pooling2d_75 (MaxPooling (None, 13, 13, 32)        0         \n",
      "_________________________________________________________________\n",
      "conv2d_76 (Conv2D)           (None, 11, 11, 32)        9248      \n",
      "_________________________________________________________________\n",
      "max_pooling2d_76 (MaxPooling (None, 5, 5, 32)          0         \n",
      "_________________________________________________________________\n",
      "conv2d_77 (Conv2D)           (None, 3, 3, 32)          9248      \n",
      "_________________________________________________________________\n",
      "max_pooling2d_77 (MaxPooling (None, 1, 1, 32)          0         \n",
      "_________________________________________________________________\n",
      "flatten_25 (Flatten)         (None, 32)                0         \n",
      "_________________________________________________________________\n",
      "dense_69 (Dense)             (None, 300)               9900      \n",
      "_________________________________________________________________\n",
      "dense_70 (Dense)             (None, 300)               90300     \n",
      "_________________________________________________________________\n",
      "dense_71 (Dense)             (None, 3)                 903       \n",
      "=================================================================\n",
      "Total params: 120,495\n",
      "Trainable params: 120,495\n",
      "Non-trainable params: 0\n",
      "_________________________________________________________________\n",
      "100  images to be resized.\n",
      "100  images resized.\n",
      "100  images to be resized.\n",
      "100  images resized.\n",
      "100  images to be resized.\n",
      "100  images resized.\n",
      "학습데이터(x_train)의 이미지 개수는 300 입니다.\n",
      "학습데이터(x_train)의 이미지 개수는 300 입니다.\n",
      "Epoch 1/30\n",
      "10/10 [==============================] - 0s 4ms/step - loss: 1.1059 - accuracy: 0.3167\n",
      "Epoch 2/30\n",
      "10/10 [==============================] - 0s 4ms/step - loss: 1.0992 - accuracy: 0.3400\n",
      "Epoch 3/30\n",
      "10/10 [==============================] - 0s 4ms/step - loss: 1.0987 - accuracy: 0.3333\n",
      "Epoch 4/30\n",
      "10/10 [==============================] - 0s 5ms/step - loss: 1.0995 - accuracy: 0.3333\n",
      "Epoch 5/30\n",
      "10/10 [==============================] - 0s 4ms/step - loss: 1.0962 - accuracy: 0.3333\n",
      "Epoch 6/30\n",
      "10/10 [==============================] - 0s 4ms/step - loss: 1.0938 - accuracy: 0.4300\n",
      "Epoch 7/30\n",
      "10/10 [==============================] - 0s 4ms/step - loss: 1.0958 - accuracy: 0.3900\n",
      "Epoch 8/30\n",
      "10/10 [==============================] - 0s 4ms/step - loss: 1.0816 - accuracy: 0.4533\n",
      "Epoch 9/30\n",
      "10/10 [==============================] - 0s 4ms/step - loss: 1.0563 - accuracy: 0.4933\n",
      "Epoch 10/30\n",
      "10/10 [==============================] - 0s 4ms/step - loss: 1.0173 - accuracy: 0.4633\n",
      "Epoch 11/30\n",
      "10/10 [==============================] - 0s 4ms/step - loss: 0.9392 - accuracy: 0.5633\n",
      "Epoch 12/30\n",
      "10/10 [==============================] - 0s 4ms/step - loss: 0.8646 - accuracy: 0.6067\n",
      "Epoch 13/30\n",
      "10/10 [==============================] - 0s 4ms/step - loss: 0.8838 - accuracy: 0.5833\n",
      "Epoch 14/30\n",
      "10/10 [==============================] - 0s 4ms/step - loss: 0.8052 - accuracy: 0.6400\n",
      "Epoch 15/30\n",
      "10/10 [==============================] - 0s 4ms/step - loss: 0.8041 - accuracy: 0.6033\n",
      "Epoch 16/30\n",
      "10/10 [==============================] - 0s 4ms/step - loss: 0.7427 - accuracy: 0.6367\n",
      "Epoch 17/30\n",
      "10/10 [==============================] - 0s 4ms/step - loss: 0.7397 - accuracy: 0.6867\n",
      "Epoch 18/30\n",
      "10/10 [==============================] - 0s 4ms/step - loss: 0.6577 - accuracy: 0.7100\n",
      "Epoch 19/30\n",
      "10/10 [==============================] - 0s 4ms/step - loss: 0.6195 - accuracy: 0.7067\n",
      "Epoch 20/30\n",
      "10/10 [==============================] - 0s 4ms/step - loss: 0.5987 - accuracy: 0.7333\n",
      "Epoch 21/30\n",
      "10/10 [==============================] - 0s 4ms/step - loss: 0.5496 - accuracy: 0.7600\n",
      "Epoch 22/30\n",
      "10/10 [==============================] - 0s 4ms/step - loss: 0.5265 - accuracy: 0.7667\n",
      "Epoch 23/30\n",
      "10/10 [==============================] - 0s 4ms/step - loss: 0.5367 - accuracy: 0.7400\n",
      "Epoch 24/30\n",
      "10/10 [==============================] - 0s 4ms/step - loss: 0.5449 - accuracy: 0.7567\n",
      "Epoch 25/30\n",
      "10/10 [==============================] - 0s 4ms/step - loss: 0.4910 - accuracy: 0.7800\n",
      "Epoch 26/30\n",
      "10/10 [==============================] - 0s 4ms/step - loss: 0.4170 - accuracy: 0.8400\n",
      "Epoch 27/30\n",
      "10/10 [==============================] - 0s 4ms/step - loss: 0.4086 - accuracy: 0.8300\n",
      "Epoch 28/30\n",
      "10/10 [==============================] - 0s 4ms/step - loss: 0.3532 - accuracy: 0.8533\n",
      "Epoch 29/30\n",
      "10/10 [==============================] - 0s 4ms/step - loss: 0.4211 - accuracy: 0.8133\n",
      "Epoch 30/30\n",
      "10/10 [==============================] - 0s 4ms/step - loss: 0.3436 - accuracy: 0.8633\n",
      "test_loss: 2.206096649169922 \n",
      "test_accuracy: 0.44999998807907104\n"
     ]
    }
   ],
   "source": [
    "#여기서부터 모델\n",
    "\n",
    "# 모델 필요 모듈 임포트\n",
    "import tensorflow as tf\n",
    "from tensorflow import keras\n",
    "import numpy as np\n",
    "\n",
    "# 바꿔 볼 수 있는 하이퍼파라미터들\n",
    "n_channel_1=32 # 필터갯수 16개\n",
    "n_channel_2=32 # 필터갯수 32개\n",
    "n_channel_3=32 # 필터갯수 32개\n",
    "n_dense= 300 #밀도함수, flatten한 값을 output값으로 산출하기 전 복잡성 추가 \n",
    "n_train_epoch=30 #학습 횟수\n",
    "\n",
    "model=keras.models.Sequential()\n",
    "\n",
    "model.add(keras.layers.Conv2D(n_channel_1, (3, 3), \n",
    "                              activation='relu', input_shape=(28, 28, 3)))\n",
    "model.add(keras.layers.MaxPool2D(2, 2))\n",
    "model.add(keras.layers.Conv2D(n_channel_2, (3, 3), activation='relu'))\n",
    "model.add(keras.layers.MaxPooling2D((2, 2)))\n",
    "model.add(keras.layers.Conv2D(n_channel_3, (3, 3), activation='relu'))\n",
    "model.add(keras.layers.MaxPooling2D((2, 2)))\n",
    "\n",
    "model.add(keras.layers.Flatten())\n",
    "model.add(keras.layers.Dense(n_dense, activation='relu'))\n",
    "model.add(keras.layers.Dense(n_dense, activation='relu'))\n",
    "\n",
    "model.add(keras.layers.Dense(3, activation='softmax'))\n",
    "\n",
    "model.compile(optimizer='adam',\n",
    "             loss='sparse_categorical_crossentropy',\n",
    "             metrics=['accuracy'])\n",
    "\n",
    "model.summary()\n",
    "\n",
    "# test data 받아오기\n",
    "image_dir_path = os.getenv(\"HOME\") + \"/aiffel/rock_scissor_paper/test/scissor\"\n",
    "resize_images(image_dir_path) #실제 이미지 바꾸기(test)\n",
    "image_dir_path = os.getenv(\"HOME\") + \"/aiffel/rock_scissor_paper/test/rock\"\n",
    "resize_images(image_dir_path) #실제 이미지 바꾸기(test)\n",
    "image_dir_path = os.getenv(\"HOME\") + \"/aiffel/rock_scissor_paper/test/paper\"\n",
    "resize_images(image_dir_path) #실제 이미지 바꾸기(test)\n",
    "\n",
    "image_dir_path_test = os.getenv(\"HOME\") + \"/aiffel/rock_scissor_paper/test\"\n",
    "(x_test, y_test)=load_data(image_dir_path_test)\n",
    "\n",
    "#test data 정규화 +reshape\n",
    "image_dir_path = os.getenv(\"HOME\") + \"/aiffel/rock_scissor_paper/test\"\n",
    "(x_test, y_test)=load_data(image_dir_path_test)\n",
    "x_test_norm = x_test/255.0   # 입력은 0~1 사이의 값으로 정규화\n",
    "x_test_reshaped = x_test_norm.reshape(-1, 28, 28, 3) #reshape\n",
    "\n",
    "# 모델 훈련\n",
    "model.fit(x_train_reshaped, y_train, epochs=n_train_epoch)\n",
    "\n",
    "# 모델 시험\n",
    "test_loss, test_accuracy = model.evaluate(x_test_reshaped, y_test, verbose=13)\n",
    "print(\"test_loss: {} \".format(test_loss))\n",
    "print(\"test_accuracy: {}\".format(test_accuracy))"
   ]
  },
  {
   "cell_type": "code",
   "execution_count": 30,
   "id": "4ea01928",
   "metadata": {},
   "outputs": [],
   "source": [
    "#회고\n",
    "\n",
    "# 정확도 올리기 위해 한 일\n",
    "\n",
    "# 1. hyperparameter 조작 -> , 필터갯수, 에폭치 조정\n",
    "# dense layer 조작 : dense 층을 하나 더 만들고 파라미터 갯수를 100으로 늘림 -> 10%상승\n",
    "# 필터크기 조작 : 3x3 -> 6x6 : 유의미한 결과 없음\n",
    "# 에폭 10->100으로 변경 : 유의미한 결과 없음\n",
    "# \n",
    "\n",
    "# 2. 레이어 추가\n",
    "# 추상도를 높이기 위한 더 높은 abstract feature 추출을 위해 layer를 한층 더 추가함(cov, maxpool layer) \n",
    "# convolution layer + maxpool layer를 지난 이미지는 특징값만이 추출된 추상적 이미지로 변환된다고 한다\n",
    "# 이 추상도를 더 높여서 더 다양한 데이터셋, 즉 테스트 데이터 셋을 더 잘 인식할 수 있게 하려고 했다.\n",
    "\n",
    "# 의문점 : 레이어를 한 층 더 추가했더니 오류가 발생해 다시 제거했다\n",
    "# <오류 코드> \n",
    "# ValueError: Negative dimension size caused by subtracting 3 from  \n",
    "# 1 for'{{node conv2d_245/Conv2D}} = Conv2D[T=DT_FLOAT~\n",
    "# 풀링을 반복해 데이터 사이즈가 달라져 오류가 뜬 것으로 보여 다시 제거했다.\n",
    "\n",
    "#3. 정규화된 데이터 쓰기 + reshape\n",
    "#처음에 학습시킬때, 정규화한 데이터가 아닌 기종 데이터를 썼다는 것을 \n",
    "# 깨달았다. 정규화된 데이터로 학습, 시험 데이터를 바꿔줬다.\n",
    "# 정확도가 30->50%로 증가했다.\n",
    "\n",
    "# 최고치 : test_accuracy: 0.5400000214576721\n",
    "\n",
    "# 리뷰\n",
    "# 정확도가 60~70%가 넘은 다른 학생들의 모델을 훑어보니, 테스트데이터를 본인이\n",
    "# 직접 찍은 사진으로 하였을때 더 높은 정확도가 나왔다. 테스트 셋 데이터의 차이가\n",
    "# 무엇인지를 살펴봤는데, 화질이나 정확한 손모양 등 데이터의 품질에는 별 차이가 \n",
    "# 없었으나, 주로 테스트 데이터의 갯수가 아이펠에서 주어진 테스트 데이터 셋의 갯수보다\n",
    "# 적은 경우가 많았다. 생각컨데, 정확도를 구하는 식이 전체 데이터 중 몇개를 제대로 인식했냐\n",
    "# 로 산출되기때문에, 아무래도 적은 양의 테스트 데이터를 넣었을 때 정확도가 높게\n",
    "# 나올 가능성이 높아지는 듯 하다. (필자는 아이펠 제공 학습,시험 데이터를 사용했다.)\n",
    "# (이는 다른 친구의 모델과 파라미터와 구조를 동일하게 설정해 놓고 돌려보았을때도,\n",
    "# 결괏값이 다르게 나와 차이를 찾던중 추론한 내용이다. 데이터의 차이 말고는 존재하지 않았다.)\n",
    "\n",
    "# 한계점, 수학계획\n",
    "# 파라미터를 바꾸며 인공지능의 성능을 개선해보는 경험을 할 수 있어 좋았지만,\n",
    "# 모델 구조와 케라스 메소드들과 작동원리에 대한 이해가 뒷받침되어야 파라미터\n",
    "# 조절도 잘 할 수 있겠다는 생각이 들었다. 모델에 대한 이해 없이 파라미터만\n",
    "# 계속 건드리는 작업이 마치 맨 땅에 해딩하는 듯한 막막함을 안겨주었기 때문이다.\n",
    "# cnn의 원론적 구조를 더 배우고, 그것이 코드로 어떻게 구현되는지를 더 알아보기로\n",
    "# 결심하게 되는 계기가 되었다."
   ]
  }
 ],
 "metadata": {
  "kernelspec": {
   "display_name": "Python 3 (ipykernel)",
   "language": "python",
   "name": "python3"
  },
  "language_info": {
   "codemirror_mode": {
    "name": "ipython",
    "version": 3
   },
   "file_extension": ".py",
   "mimetype": "text/x-python",
   "name": "python",
   "nbconvert_exporter": "python",
   "pygments_lexer": "ipython3",
   "version": "3.9.7"
  }
 },
 "nbformat": 4,
 "nbformat_minor": 5
}
