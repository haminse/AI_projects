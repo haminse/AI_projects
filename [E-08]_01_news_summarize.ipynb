{
 "cells": [
  {
   "cell_type": "markdown",
   "id": "52209d94",
   "metadata": {},
   "source": [
    "# 뉴스 요약봇 만들기\n",
    "LSTM 기반 RNN 모델 + 어텐션 메커니즘 도입해 추상적 추출 하기"
   ]
  },
  {
   "cell_type": "markdown",
   "id": "a321e410",
   "metadata": {},
   "source": [
    "## 1. 필요 모듈 임포트 및 데이터 받기"
   ]
  },
  {
   "cell_type": "code",
   "execution_count": 1,
   "id": "3db57ca2",
   "metadata": {},
   "outputs": [
    {
     "name": "stderr",
     "output_type": "stream",
     "text": [
      "[nltk_data] Downloading package stopwords to /aiffel/nltk_data...\n",
      "[nltk_data]   Unzipping corpora/stopwords.zip.\n"
     ]
    },
    {
     "name": "stdout",
     "output_type": "stream",
     "text": [
      "=3\n"
     ]
    }
   ],
   "source": [
    "import nltk\n",
    "nltk.download('stopwords')\n",
    "\n",
    "import numpy as np\n",
    "import pandas as pd\n",
    "import os\n",
    "import re\n",
    "import matplotlib.pyplot as plt\n",
    "from nltk.corpus import stopwords\n",
    "from bs4 import BeautifulSoup \n",
    "from tensorflow.keras.preprocessing.text import Tokenizer \n",
    "from tensorflow.keras.preprocessing.sequence import pad_sequences\n",
    "import urllib.request\n",
    "import warnings\n",
    "warnings.filterwarnings(\"ignore\", category=UserWarning, module='bs4')\n",
    "\n",
    "print('=3')"
   ]
  },
  {
   "cell_type": "code",
   "execution_count": 2,
   "id": "9cf17a9c",
   "metadata": {},
   "outputs": [],
   "source": [
    "import urllib.request\n",
    "urllib.request.urlretrieve(\"https://raw.githubusercontent.com/sunnysai12345/News_Summary/master/news_summary_more.csv\", filename=\"news_summary_more.csv\")\n",
    "data = pd.read_csv('news_summary_more.csv', encoding='iso-8859-1')\n",
    "data_2 = data.copy()"
   ]
  },
  {
   "cell_type": "code",
   "execution_count": 3,
   "id": "813e2884",
   "metadata": {
    "scrolled": false
   },
   "outputs": [
    {
     "data": {
      "text/html": [
       "<div>\n",
       "<style scoped>\n",
       "    .dataframe tbody tr th:only-of-type {\n",
       "        vertical-align: middle;\n",
       "    }\n",
       "\n",
       "    .dataframe tbody tr th {\n",
       "        vertical-align: top;\n",
       "    }\n",
       "\n",
       "    .dataframe thead th {\n",
       "        text-align: right;\n",
       "    }\n",
       "</style>\n",
       "<table border=\"1\" class=\"dataframe\">\n",
       "  <thead>\n",
       "    <tr style=\"text-align: right;\">\n",
       "      <th></th>\n",
       "      <th>headlines</th>\n",
       "      <th>text</th>\n",
       "    </tr>\n",
       "  </thead>\n",
       "  <tbody>\n",
       "    <tr>\n",
       "      <th>3922</th>\n",
       "      <td>Cyber law to control tech firms comes into eff...</td>\n",
       "      <td>Vietnam's cybersecurity law, which tightens go...</td>\n",
       "    </tr>\n",
       "    <tr>\n",
       "      <th>76098</th>\n",
       "      <td>Flipkart raises $2.5 billion from SoftBank</td>\n",
       "      <td>E-commerce major Flipkart has raised a reporte...</td>\n",
       "    </tr>\n",
       "    <tr>\n",
       "      <th>22247</th>\n",
       "      <td>Saree presented by CM stolen from Telangana te...</td>\n",
       "      <td>A silk saree presented by CM K Chandrashekar R...</td>\n",
       "    </tr>\n",
       "    <tr>\n",
       "      <th>15707</th>\n",
       "      <td>Saw goons harass Tanushree on sets of Nana Pat...</td>\n",
       "      <td>Talk show host-journalist Janice Sequeira has ...</td>\n",
       "    </tr>\n",
       "    <tr>\n",
       "      <th>97649</th>\n",
       "      <td>Bhutan measures growth by happiness index inst...</td>\n",
       "      <td>Bhutan measures its growth through the Gross N...</td>\n",
       "    </tr>\n",
       "    <tr>\n",
       "      <th>74526</th>\n",
       "      <td>US deploys self-driving truck that can survive...</td>\n",
       "      <td>US state of Colorado has deployed a driverless...</td>\n",
       "    </tr>\n",
       "    <tr>\n",
       "      <th>6689</th>\n",
       "      <td>I always aspired to do something different: Ay...</td>\n",
       "      <td>Ayushmann Khurrana has said that he had \"treme...</td>\n",
       "    </tr>\n",
       "    <tr>\n",
       "      <th>48330</th>\n",
       "      <td>Ronaldo scores hat-trick as Real Madrid go 3rd...</td>\n",
       "      <td>Cristiano Ronaldo scored a hat-trick as Real M...</td>\n",
       "    </tr>\n",
       "    <tr>\n",
       "      <th>2507</th>\n",
       "      <td>Scientists close to observing 1st ever photo o...</td>\n",
       "      <td>Scientists have revealed they have obtained \"v...</td>\n",
       "    </tr>\n",
       "    <tr>\n",
       "      <th>12614</th>\n",
       "      <td>Punjab CM Amarinder Singh arrives in Israel fo...</td>\n",
       "      <td>Punjab CM Captain Amarinder Singh has arrived ...</td>\n",
       "    </tr>\n",
       "  </tbody>\n",
       "</table>\n",
       "</div>"
      ],
      "text/plain": [
       "                                               headlines  \\\n",
       "3922   Cyber law to control tech firms comes into eff...   \n",
       "76098         Flipkart raises $2.5 billion from SoftBank   \n",
       "22247  Saree presented by CM stolen from Telangana te...   \n",
       "15707  Saw goons harass Tanushree on sets of Nana Pat...   \n",
       "97649  Bhutan measures growth by happiness index inst...   \n",
       "74526  US deploys self-driving truck that can survive...   \n",
       "6689   I always aspired to do something different: Ay...   \n",
       "48330  Ronaldo scores hat-trick as Real Madrid go 3rd...   \n",
       "2507   Scientists close to observing 1st ever photo o...   \n",
       "12614  Punjab CM Amarinder Singh arrives in Israel fo...   \n",
       "\n",
       "                                                    text  \n",
       "3922   Vietnam's cybersecurity law, which tightens go...  \n",
       "76098  E-commerce major Flipkart has raised a reporte...  \n",
       "22247  A silk saree presented by CM K Chandrashekar R...  \n",
       "15707  Talk show host-journalist Janice Sequeira has ...  \n",
       "97649  Bhutan measures its growth through the Gross N...  \n",
       "74526  US state of Colorado has deployed a driverless...  \n",
       "6689   Ayushmann Khurrana has said that he had \"treme...  \n",
       "48330  Cristiano Ronaldo scored a hat-trick as Real M...  \n",
       "2507   Scientists have revealed they have obtained \"v...  \n",
       "12614  Punjab CM Captain Amarinder Singh has arrived ...  "
      ]
     },
     "execution_count": 3,
     "metadata": {},
     "output_type": "execute_result"
    }
   ],
   "source": [
    "data.sample(10)\n",
    "data_2.sample(10)"
   ]
  },
  {
   "cell_type": "markdown",
   "id": "e5d1bdeb",
   "metadata": {},
   "source": [
    "text를 원문, 헤드라인을 summary로 이용하자"
   ]
  },
  {
   "cell_type": "markdown",
   "id": "85981ad7",
   "metadata": {},
   "source": [
    "## 2. 데이터 전처리하기 (추상적 요약)"
   ]
  },
  {
   "cell_type": "code",
   "execution_count": 4,
   "id": "027a52d9",
   "metadata": {},
   "outputs": [
    {
     "data": {
      "text/html": [
       "<div>\n",
       "<style scoped>\n",
       "    .dataframe tbody tr th:only-of-type {\n",
       "        vertical-align: middle;\n",
       "    }\n",
       "\n",
       "    .dataframe tbody tr th {\n",
       "        vertical-align: top;\n",
       "    }\n",
       "\n",
       "    .dataframe thead th {\n",
       "        text-align: right;\n",
       "    }\n",
       "</style>\n",
       "<table border=\"1\" class=\"dataframe\">\n",
       "  <thead>\n",
       "    <tr style=\"text-align: right;\">\n",
       "      <th></th>\n",
       "      <th>text</th>\n",
       "      <th>headlines</th>\n",
       "    </tr>\n",
       "  </thead>\n",
       "  <tbody>\n",
       "    <tr>\n",
       "      <th>0</th>\n",
       "      <td>Saurav Kant, an alumnus of upGrad and IIIT-B's...</td>\n",
       "      <td>upGrad learner switches to career in ML &amp; Al w...</td>\n",
       "    </tr>\n",
       "    <tr>\n",
       "      <th>1</th>\n",
       "      <td>Kunal Shah's credit card bill payment platform...</td>\n",
       "      <td>Delhi techie wins free food from Swiggy for on...</td>\n",
       "    </tr>\n",
       "    <tr>\n",
       "      <th>2</th>\n",
       "      <td>New Zealand defeated India by 8 wickets in the...</td>\n",
       "      <td>New Zealand end Rohit Sharma-led India's 12-ma...</td>\n",
       "    </tr>\n",
       "    <tr>\n",
       "      <th>3</th>\n",
       "      <td>With Aegon Life iTerm Insurance plan, customer...</td>\n",
       "      <td>Aegon life iTerm insurance plan helps customer...</td>\n",
       "    </tr>\n",
       "    <tr>\n",
       "      <th>4</th>\n",
       "      <td>Speaking about the sexual harassment allegatio...</td>\n",
       "      <td>Have known Hirani for yrs, what if MeToo claim...</td>\n",
       "    </tr>\n",
       "  </tbody>\n",
       "</table>\n",
       "</div>"
      ],
      "text/plain": [
       "                                                text  \\\n",
       "0  Saurav Kant, an alumnus of upGrad and IIIT-B's...   \n",
       "1  Kunal Shah's credit card bill payment platform...   \n",
       "2  New Zealand defeated India by 8 wickets in the...   \n",
       "3  With Aegon Life iTerm Insurance plan, customer...   \n",
       "4  Speaking about the sexual harassment allegatio...   \n",
       "\n",
       "                                           headlines  \n",
       "0  upGrad learner switches to career in ML & Al w...  \n",
       "1  Delhi techie wins free food from Swiggy for on...  \n",
       "2  New Zealand end Rohit Sharma-led India's 12-ma...  \n",
       "3  Aegon life iTerm insurance plan helps customer...  \n",
       "4  Have known Hirani for yrs, what if MeToo claim...  "
      ]
     },
     "execution_count": 4,
     "metadata": {},
     "output_type": "execute_result"
    }
   ],
   "source": [
    "#순서 바꾸기\n",
    "data = data[['text','headlines']]\n",
    "data.head()"
   ]
  },
  {
   "cell_type": "markdown",
   "id": "57a23740",
   "metadata": {},
   "source": [
    "### 데이터 전처리 - 중복값, 결측값 제거"
   ]
  },
  {
   "cell_type": "markdown",
   "id": "fd7875e7",
   "metadata": {},
   "source": [
    "summary에서는 중복값이 나올수 있다. 다른 문장도 같게 요약할 수 있기 때문이다. 하지만 텍스트 중복값은 삭제해 줘야한다."
   ]
  },
  {
   "cell_type": "code",
   "execution_count": 5,
   "id": "5adc543a",
   "metadata": {
    "scrolled": true
   },
   "outputs": [
    {
     "name": "stdout",
     "output_type": "stream",
     "text": [
      "text 열에서 중복을 배제한 유일한 샘플의 수 : 98360\n",
      "headlines열에서 중복을 배제한 유일한 샘플의 수 : 98280\n",
      "전체 샘플수 : 98360\n"
     ]
    }
   ],
   "source": [
    "# 중복값 제거\n",
    "print('text 열에서 중복을 배제한 유일한 샘플의 수 :', data['text'].nunique())\n",
    "print('headlines열에서 중복을 배제한 유일한 샘플의 수 :', data['headlines'].nunique())\n",
    "\n",
    "# inplace=True 를 설정하면 DataFrame 타입 값을 return 하지 않고 data 내부를 직접적으로 바꿉니다\n",
    "data.drop_duplicates(subset = ['text'], inplace=True) #중복값 삭제\n",
    "print('전체 샘플수 :', (len(data)))"
   ]
  },
  {
   "cell_type": "code",
   "execution_count": 6,
   "id": "d2ce9cd5",
   "metadata": {
    "scrolled": true
   },
   "outputs": [
    {
     "name": "stdout",
     "output_type": "stream",
     "text": [
      "text         0\n",
      "headlines    0\n",
      "dtype: int64\n",
      "전체 샘플수 : 98360\n"
     ]
    }
   ],
   "source": [
    "#결측값 제거\n",
    "print(data.isnull().sum())\n",
    "\n",
    "data.dropna(axis=0, inplace=True) #결측값 삭제\n",
    "print('전체 샘플수 :', (len(data)))"
   ]
  },
  {
   "cell_type": "markdown",
   "id": "eb3eabce",
   "metadata": {},
   "source": [
    "해당 데이터에는 결측값이 없다."
   ]
  },
  {
   "cell_type": "markdown",
   "id": "7d9b1426",
   "metadata": {},
   "source": [
    "### 텍스트 정규화 + 불용어 제거\n",
    "\n",
    "\n",
    "##### Text normalization?(텍스트 정규화)\n",
    "it'll은 it will과 같고, mustn't과 must not은 사실 같은 표현이다. 이런 경우 기계가 굳이 이들을 마치 다른 단어로 간주하게 해서 연산량을 늘리는 것보다는 기계 학습 전에 미리 같은 표현으로 통일시켜주는 것이 기계의 연산량을 줄일 수 있다. 이를 텍스트 정규화라고 한다."
   ]
  },
  {
   "cell_type": "code",
   "execution_count": 7,
   "id": "3e738586",
   "metadata": {},
   "outputs": [
    {
     "name": "stdout",
     "output_type": "stream",
     "text": [
      "정규화 사전의 수:  120\n"
     ]
    }
   ],
   "source": [
    "#정규화 사전 만들기\n",
    "contractions = {\"ain't\": \"is not\", \"aren't\": \"are not\",\"can't\": \"cannot\", \"'cause\": \"because\", \"could've\": \"could have\", \"couldn't\": \"could not\",\n",
    "                           \"didn't\": \"did not\",  \"doesn't\": \"does not\", \"don't\": \"do not\", \"hadn't\": \"had not\", \"hasn't\": \"has not\", \"haven't\": \"have not\",\n",
    "                           \"he'd\": \"he would\",\"he'll\": \"he will\", \"he's\": \"he is\", \"how'd\": \"how did\", \"how'd'y\": \"how do you\", \"how'll\": \"how will\", \"how's\": \"how is\",\n",
    "                           \"I'd\": \"I would\", \"I'd've\": \"I would have\", \"I'll\": \"I will\", \"I'll've\": \"I will have\",\"I'm\": \"I am\", \"I've\": \"I have\", \"i'd\": \"i would\",\n",
    "                           \"i'd've\": \"i would have\", \"i'll\": \"i will\",  \"i'll've\": \"i will have\",\"i'm\": \"i am\", \"i've\": \"i have\", \"isn't\": \"is not\", \"it'd\": \"it would\",\n",
    "                           \"it'd've\": \"it would have\", \"it'll\": \"it will\", \"it'll've\": \"it will have\",\"it's\": \"it is\", \"let's\": \"let us\", \"ma'am\": \"madam\",\n",
    "                           \"mayn't\": \"may not\", \"might've\": \"might have\",\"mightn't\": \"might not\",\"mightn't've\": \"might not have\", \"must've\": \"must have\",\n",
    "                           \"mustn't\": \"must not\", \"mustn't've\": \"must not have\", \"needn't\": \"need not\", \"needn't've\": \"need not have\",\"o'clock\": \"of the clock\",\n",
    "                           \"oughtn't\": \"ought not\", \"oughtn't've\": \"ought not have\", \"shan't\": \"shall not\", \"sha'n't\": \"shall not\", \"shan't've\": \"shall not have\",\n",
    "                           \"she'd\": \"she would\", \"she'd've\": \"she would have\", \"she'll\": \"she will\", \"she'll've\": \"she will have\", \"she's\": \"she is\",\n",
    "                           \"should've\": \"should have\", \"shouldn't\": \"should not\", \"shouldn't've\": \"should not have\", \"so've\": \"so have\",\"so's\": \"so as\",\n",
    "                           \"this's\": \"this is\",\"that'd\": \"that would\", \"that'd've\": \"that would have\", \"that's\": \"that is\", \"there'd\": \"there would\",\n",
    "                           \"there'd've\": \"there would have\", \"there's\": \"there is\", \"here's\": \"here is\",\"they'd\": \"they would\", \"they'd've\": \"they would have\",\n",
    "                           \"they'll\": \"they will\", \"they'll've\": \"they will have\", \"they're\": \"they are\", \"they've\": \"they have\", \"to've\": \"to have\",\n",
    "                           \"wasn't\": \"was not\", \"we'd\": \"we would\", \"we'd've\": \"we would have\", \"we'll\": \"we will\", \"we'll've\": \"we will have\", \"we're\": \"we are\",\n",
    "                           \"we've\": \"we have\", \"weren't\": \"were not\", \"what'll\": \"what will\", \"what'll've\": \"what will have\", \"what're\": \"what are\",\n",
    "                           \"what's\": \"what is\", \"what've\": \"what have\", \"when's\": \"when is\", \"when've\": \"when have\", \"where'd\": \"where did\", \"where's\": \"where is\",\n",
    "                           \"where've\": \"where have\", \"who'll\": \"who will\", \"who'll've\": \"who will have\", \"who's\": \"who is\", \"who've\": \"who have\",\n",
    "                           \"why's\": \"why is\", \"why've\": \"why have\", \"will've\": \"will have\", \"won't\": \"will not\", \"won't've\": \"will not have\",\n",
    "                           \"would've\": \"would have\", \"wouldn't\": \"would not\", \"wouldn't've\": \"would not have\", \"y'all\": \"you all\",\n",
    "                           \"y'all'd\": \"you all would\",\"y'all'd've\": \"you all would have\",\"y'all're\": \"you all are\",\"y'all've\": \"you all have\",\n",
    "                           \"you'd\": \"you would\", \"you'd've\": \"you would have\", \"you'll\": \"you will\", \"you'll've\": \"you will have\",\n",
    "                           \"you're\": \"you are\", \"you've\": \"you have\"}\n",
    "\n",
    "print(\"정규화 사전의 수: \", len(contractions))"
   ]
  },
  {
   "cell_type": "markdown",
   "id": "e05f68ed",
   "metadata": {},
   "source": [
    "##### Stopwords?(불용어)\n",
    "텍스트에는 자주 등장하지만 자연어 처리를 할 때 실질적으로는 별 도움이 안되는 단어들\n",
    "\n",
    "from nltk.corpus import stopwords 에서 가져옴"
   ]
  },
  {
   "cell_type": "code",
   "execution_count": 8,
   "id": "fd8f96b2",
   "metadata": {},
   "outputs": [
    {
     "name": "stdout",
     "output_type": "stream",
     "text": [
      "불용어 개수 : 179\n",
      "['i', 'me', 'my', 'myself', 'we', 'our', 'ours', 'ourselves', 'you', \"you're\", \"you've\", \"you'll\", \"you'd\", 'your', 'yours', 'yourself', 'yourselves', 'he', 'him', 'his', 'himself', 'she', \"she's\", 'her', 'hers', 'herself', 'it', \"it's\", 'its', 'itself', 'they', 'them', 'their', 'theirs', 'themselves', 'what', 'which', 'who', 'whom', 'this', 'that', \"that'll\", 'these', 'those', 'am', 'is', 'are', 'was', 'were', 'be', 'been', 'being', 'have', 'has', 'had', 'having', 'do', 'does', 'did', 'doing', 'a', 'an', 'the', 'and', 'but', 'if', 'or', 'because', 'as', 'until', 'while', 'of', 'at', 'by', 'for', 'with', 'about', 'against', 'between', 'into', 'through', 'during', 'before', 'after', 'above', 'below', 'to', 'from', 'up', 'down', 'in', 'out', 'on', 'off', 'over', 'under', 'again', 'further', 'then', 'once', 'here', 'there', 'when', 'where', 'why', 'how', 'all', 'any', 'both', 'each', 'few', 'more', 'most', 'other', 'some', 'such', 'no', 'nor', 'not', 'only', 'own', 'same', 'so', 'than', 'too', 'very', 's', 't', 'can', 'will', 'just', 'don', \"don't\", 'should', \"should've\", 'now', 'd', 'll', 'm', 'o', 're', 've', 'y', 'ain', 'aren', \"aren't\", 'couldn', \"couldn't\", 'didn', \"didn't\", 'doesn', \"doesn't\", 'hadn', \"hadn't\", 'hasn', \"hasn't\", 'haven', \"haven't\", 'isn', \"isn't\", 'ma', 'mightn', \"mightn't\", 'mustn', \"mustn't\", 'needn', \"needn't\", 'shan', \"shan't\", 'shouldn', \"shouldn't\", 'wasn', \"wasn't\", 'weren', \"weren't\", 'won', \"won't\", 'wouldn', \"wouldn't\"]\n"
     ]
    }
   ],
   "source": [
    "#불용어 사진 확인\n",
    "print('불용어 개수 :', len(stopwords.words('english') ))\n",
    "print(stopwords.words('english'))"
   ]
  },
  {
   "cell_type": "markdown",
   "id": "272fe045",
   "metadata": {},
   "source": [
    "### 그 외 전처리\n",
    "- 모든 영어 문자는 소문자로 수정\n",
    "- 섞여있는 html 태그를 제거\n",
    "- 정규 표현식을 통해 각종 특수문자를 제거\n",
    "\n",
    "\n",
    "- 불용어는 text에서만 제거, headlines에는 불용어가 있는게 자연스러울 것으로 예상"
   ]
  },
  {
   "cell_type": "code",
   "execution_count": 9,
   "id": "b5e6a18a",
   "metadata": {},
   "outputs": [
    {
     "name": "stdout",
     "output_type": "stream",
     "text": [
      "=3\n"
     ]
    }
   ],
   "source": [
    "# 데이터 전처리 함수\n",
    "def preprocess_sentence(sentence, remove_stopwords=True):\n",
    "    sentence = sentence.lower() # 텍스트 소문자화\n",
    "    sentence = BeautifulSoup(sentence, \"lxml\").text # <br />, <a href = ...> 등의 html 태그 제거\n",
    "    sentence = re.sub(r'\\([^)]*\\)', '', sentence) # 괄호로 닫힌 문자열 (...) 제거 Ex) my husband (and myself!) for => my husband for\n",
    "    sentence = re.sub('\"','', sentence) # 쌍따옴표 \" 제거\n",
    "    sentence = ' '.join([contractions[t] if t in contractions else t for t in sentence.split(\" \")]) # 약어 정규화\n",
    "    sentence = re.sub(r\"'s\\b\",\"\", sentence) # 소유격 제거. Ex) roland's -> roland\n",
    "    sentence = re.sub(\"[^a-zA-Z]\", \" \", sentence) # 영어 외 문자(숫자, 특수문자 등) 공백으로 변환\n",
    "    sentence = re.sub('[m]{2,}', 'mm', sentence) # m이 3개 이상이면 2개로 변경. Ex) ummmmmmm yeah -> umm yeah\n",
    "    \n",
    "    # 불용어 제거 (Text)\n",
    "    if remove_stopwords:\n",
    "        tokens = ' '.join(word for word in sentence.split() if not word in stopwords.words('english') if len(word) > 1)\n",
    "    # 불용어 미제거 (Summary)\n",
    "    else: #if remove_stopwords = False\n",
    "        tokens = ' '.join(word for word in sentence.split() if len(word) > 1)\n",
    "    return tokens\n",
    "print('=3')"
   ]
  },
  {
   "cell_type": "code",
   "execution_count": 10,
   "id": "10aad564",
   "metadata": {
    "scrolled": true
   },
   "outputs": [
    {
     "name": "stdout",
     "output_type": "stream",
     "text": [
      "text:  everything bought great infact ordered twice third ordered wasfor mother father\n",
      "headlines: great way to start the day\n"
     ]
    }
   ],
   "source": [
    "#함수 작동 확인\n",
    "temp_text = 'Everything I bought was great, infact I ordered twice and the third ordered was<br />for my mother and father.'\n",
    "temp_heads = 'Great way to start (or finish) the day!!!'\n",
    "\n",
    "print(\"text: \", preprocess_sentence(temp_text))\n",
    "print(\"headlines:\", preprocess_sentence(temp_heads, False))  # 불용어를 제거하지 않습니다."
   ]
  },
  {
   "cell_type": "code",
   "execution_count": 11,
   "id": "dd2d64c5",
   "metadata": {},
   "outputs": [
    {
     "name": "stdout",
     "output_type": "stream",
     "text": [
      "text 전처리 후 결과:  ['saurav kant alumnus upgrad iiit pg program machine learning artificial intelligence sr systems engineer infosys almost years work experience program upgrad degree career support helped transition data scientist tech mahindra salary hike upgrad online power learning powered lakh careers', 'kunal shah credit card bill payment platform cred gave users chance win free food swiggy one year pranav kaushik delhi techie bagged reward spending cred coins users get one cred coin per rupee bill paid used avail rewards brands like ixigo bookmyshow ubereats cult fit', 'new zealand defeated india wickets fourth odi hamilton thursday win first match five match odi series india lost international match rohit sharma captaincy consecutive victories dating back march match witnessed india getting seventh lowest total odi cricket history', 'aegon life iterm insurance plan customers enjoy tax benefits premiums paid save taxes plan provides life cover age years also customers options insure critical illnesses disability accidental death benefit rider life cover age years', 'speaking sexual harassment allegations rajkumar hirani sonam kapoor said known hirani many years true metoo movement get derailed metoo movement always believe woman case need reserve judgment added hirani accused assistant worked sanju']\n"
     ]
    }
   ],
   "source": [
    "clean_text = []\n",
    "# 전체 Text 데이터에 대한 전처리 : 10분 이상 시간이 걸릴 수 있습니다. \n",
    "for s in data['text']:\n",
    "    clean_text.append(preprocess_sentence(s))\n",
    "\n",
    "# 전처리 후 출력\n",
    "print(\"text 전처리 후 결과: \", clean_text[:5])"
   ]
  },
  {
   "cell_type": "markdown",
   "id": "ed2ec6c0",
   "metadata": {},
   "source": [
    " headlines에 대해서 전처리 함수를 호출해 줄 때는, 불용어 제거를 수행하지 않는다는 의미에서 두 번째 인자로 False 삽입"
   ]
  },
  {
   "cell_type": "code",
   "execution_count": 12,
   "id": "01b1d873",
   "metadata": {},
   "outputs": [
    {
     "name": "stdout",
     "output_type": "stream",
     "text": [
      "headlines 전처리 후 결과:  ['upgrad learner switches to career in ml al with salary hike', 'delhi techie wins free food from swiggy for one year on cred', 'new zealand end rohit sharma led india match winning streak', 'aegon life iterm insurance plan helps customers save tax', 'have known hirani for yrs what if metoo claims are not true sonam']\n"
     ]
    }
   ],
   "source": [
    "clean_summary = []\n",
    "# 전체 Summary 데이터에 대한 전처리 : 5분 이상 시간이 걸릴 수 있습니다. \n",
    "for s in data['headlines']:\n",
    "    clean_summary.append(preprocess_sentence(s, False))\n",
    "\n",
    "print(\"headlines 전처리 후 결과: \", clean_summary[:5])"
   ]
  },
  {
   "cell_type": "markdown",
   "id": "d84cc381",
   "metadata": {},
   "source": [
    "더 보기 좋게 하기 위해 dataFrame에 저장\n",
    "\n",
    "- 빈 값은 null 값으로 변환"
   ]
  },
  {
   "cell_type": "code",
   "execution_count": 13,
   "id": "113a9e5e",
   "metadata": {},
   "outputs": [
    {
     "name": "stdout",
     "output_type": "stream",
     "text": [
      "=3\n"
     ]
    }
   ],
   "source": [
    "data['text'] = clean_text\n",
    "data['headlines'] = clean_summary\n",
    "\n",
    "# 빈 값을 Null 값으로 변환\n",
    "data.replace('', np.nan, inplace=True)\n",
    "print('=3')"
   ]
  },
  {
   "cell_type": "markdown",
   "id": "43e5e9fd",
   "metadata": {},
   "source": [
    "null값이 생겼는지 확인"
   ]
  },
  {
   "cell_type": "code",
   "execution_count": 14,
   "id": "328ac0bd",
   "metadata": {},
   "outputs": [
    {
     "data": {
      "text/plain": [
       "text         0\n",
       "headlines    0\n",
       "dtype: int64"
      ]
     },
     "execution_count": 14,
     "metadata": {},
     "output_type": "execute_result"
    }
   ],
   "source": [
    "data.isnull().sum()"
   ]
  },
  {
   "cell_type": "markdown",
   "id": "1dda72ca",
   "metadata": {},
   "source": [
    "- Null 값 발생 X.\n",
    "\n",
    "summary에 null값 생긴 데이터 삭제"
   ]
  },
  {
   "cell_type": "code",
   "execution_count": 15,
   "id": "49b28a57",
   "metadata": {},
   "outputs": [
    {
     "name": "stdout",
     "output_type": "stream",
     "text": [
      "전체 샘플수 : 98360\n"
     ]
    }
   ],
   "source": [
    "data.dropna(axis=0, inplace=True)\n",
    "print('전체 샘플수 :', (len(data)))"
   ]
  },
  {
   "cell_type": "markdown",
   "id": "e8674c28",
   "metadata": {},
   "source": [
    "### 샘플 최대 길이 구하기\n",
    "text와 headlines의 최소, 최대, 평균 길이를 구하고 또한 길이 분포를 시각화"
   ]
  },
  {
   "cell_type": "code",
   "execution_count": 16,
   "id": "ff95aa84",
   "metadata": {},
   "outputs": [
    {
     "name": "stdout",
     "output_type": "stream",
     "text": [
      "텍스트의 최소 길이 : 1\n",
      "텍스트의 최대 길이 : 60\n",
      "텍스트의 평균 길이 : 35.09968483123221\n",
      "요약의 최소 길이 : 1\n",
      "요약의 최대 길이 : 16\n",
      "요약의 평균 길이 : 9.299532330215534\n"
     ]
    },
    {
     "data": {
      "image/png": "[encoded data removed]",
      "text/plain": [
       "<Figure size 432x288 with 2 Axes>"
      ]
     },
     "metadata": {
      "needs_background": "light"
     },
     "output_type": "display_data"
    },
    {
     "data": {
      "image/png": "[encoded data removed]",
      "text/plain": [
       "<Figure size 432x288 with 1 Axes>"
      ]
     },
     "metadata": {
      "needs_background": "light"
     },
     "output_type": "display_data"
    },
    {
     "data": {
      "image/png": "[encoded data removed]",
      "text/plain": [
       "<Figure size 432x288 with 1 Axes>"
      ]
     },
     "metadata": {
      "needs_background": "light"
     },
     "output_type": "display_data"
    }
   ],
   "source": [
    "# 길이 분포 출력\n",
    "import matplotlib.pyplot as plt\n",
    "\n",
    "text_len = [len(s.split()) for s in data['text']]\n",
    "summary_len = [len(s.split()) for s in data['headlines']]\n",
    "\n",
    "print('텍스트의 최소 길이 : {}'.format(np.min(text_len)))\n",
    "print('텍스트의 최대 길이 : {}'.format(np.max(text_len)))\n",
    "print('텍스트의 평균 길이 : {}'.format(np.mean(text_len)))\n",
    "print('요약의 최소 길이 : {}'.format(np.min(summary_len)))\n",
    "print('요약의 최대 길이 : {}'.format(np.max(summary_len)))\n",
    "print('요약의 평균 길이 : {}'.format(np.mean(summary_len)))\n",
    "\n",
    "plt.subplot(1,2,1)\n",
    "plt.boxplot(text_len)\n",
    "plt.title('text')\n",
    "plt.subplot(1,2,2)\n",
    "plt.boxplot(summary_len)\n",
    "plt.title('headlines')\n",
    "plt.tight_layout()\n",
    "plt.show()\n",
    "\n",
    "plt.title('text')\n",
    "plt.hist(text_len, bins = 40)\n",
    "plt.xlabel('length of samples')\n",
    "plt.ylabel('number of samples')\n",
    "plt.show()\n",
    "\n",
    "plt.title('headlines')\n",
    "plt.hist(summary_len, bins = 40)\n",
    "plt.xlabel('length of samples')\n",
    "plt.ylabel('number of samples')\n",
    "plt.show()"
   ]
  },
  {
   "cell_type": "markdown",
   "id": "68ef1fb4",
   "metadata": {},
   "source": [
    "최솟값과 최댓값의 차이가 굉장히 큰데, text의 경우 길이 25에서 45 내외, headlines의 경우 6에서 11 내외에 대부분의 데이터가 분포해 있다."
   ]
  },
  {
   "cell_type": "markdown",
   "id": "591df585",
   "metadata": {},
   "source": [
    "####  text의 최대 길이와 headlines의 적절한 최대 길이를 임의로 지정"
   ]
  },
  {
   "cell_type": "code",
   "execution_count": 17,
   "id": "90d1168c",
   "metadata": {},
   "outputs": [
    {
     "name": "stdout",
     "output_type": "stream",
     "text": [
      "=3\n"
     ]
    }
   ],
   "source": [
    "text_max_len = 45\n",
    "summary_max_len = 11\n",
    "print('=3')"
   ]
  },
  {
   "cell_type": "markdown",
   "id": "0e55613a",
   "metadata": {},
   "source": [
    "자른 길이로 데이터를 얼마나 가져올 수 있는지 파악"
   ]
  },
  {
   "cell_type": "code",
   "execution_count": 18,
   "id": "37e4a699",
   "metadata": {},
   "outputs": [
    {
     "name": "stdout",
     "output_type": "stream",
     "text": [
      "=3\n"
     ]
    }
   ],
   "source": [
    "# 데이터 가져오는 양 비율 확인 함수 생성\n",
    "def below_threshold_len(max_len, nested_list):\n",
    "  cnt = 0\n",
    "  for s in nested_list:\n",
    "    if(len(s.split()) <= max_len):\n",
    "        cnt = cnt + 1\n",
    "  print('전체 샘플 중 길이가 %s 이하인 샘플의 비율: %s'%(max_len, (cnt / len(nested_list))))\n",
    "print('=3')"
   ]
  },
  {
   "cell_type": "code",
   "execution_count": 19,
   "id": "96151743",
   "metadata": {},
   "outputs": [
    {
     "name": "stdout",
     "output_type": "stream",
     "text": [
      "전체 샘플 중 길이가 45 이하인 샘플의 비율: 0.9967771451809678\n",
      "전체 샘플 중 길이가 11 이하인 샘플의 비율: 0.9449877999186661\n"
     ]
    }
   ],
   "source": [
    "below_threshold_len(text_max_len, data['text'])\n",
    "below_threshold_len(summary_max_len,  data['headlines'])"
   ]
  },
  {
   "cell_type": "markdown",
   "id": "c2ca2f6c",
   "metadata": {},
   "source": [
    "#### 정해진 길이보다 긴 데이터 삭제"
   ]
  },
  {
   "cell_type": "code",
   "execution_count": 20,
   "id": "d5a065f6",
   "metadata": {
    "scrolled": true
   },
   "outputs": [
    {
     "name": "stdout",
     "output_type": "stream",
     "text": [
      "전체 샘플수 : 92656\n"
     ]
    }
   ],
   "source": [
    "data = data[data['text'].apply(lambda x: len(x.split()) <= text_max_len)]\n",
    "data = data[data['headlines'].apply(lambda x: len(x.split()) <= summary_max_len)]\n",
    "print('전체 샘플수 :', (len(data)))"
   ]
  },
  {
   "cell_type": "markdown",
   "id": "43670c16",
   "metadata": {},
   "source": [
    "data.apply(function_name) 함수는 data 해당 부분에 function_name을 적용하는 함수"
   ]
  },
  {
   "cell_type": "code",
   "execution_count": 21,
   "id": "e43283c5",
   "metadata": {
    "scrolled": true
   },
   "outputs": [
    {
     "data": {
      "text/html": [
       "<div>\n",
       "<style scoped>\n",
       "    .dataframe tbody tr th:only-of-type {\n",
       "        vertical-align: middle;\n",
       "    }\n",
       "\n",
       "    .dataframe tbody tr th {\n",
       "        vertical-align: top;\n",
       "    }\n",
       "\n",
       "    .dataframe thead th {\n",
       "        text-align: right;\n",
       "    }\n",
       "</style>\n",
       "<table border=\"1\" class=\"dataframe\">\n",
       "  <thead>\n",
       "    <tr style=\"text-align: right;\">\n",
       "      <th></th>\n",
       "      <th>text</th>\n",
       "      <th>headlines</th>\n",
       "    </tr>\n",
       "  </thead>\n",
       "  <tbody>\n",
       "    <tr>\n",
       "      <th>0</th>\n",
       "      <td>saurav kant alumnus upgrad iiit pg program mac...</td>\n",
       "      <td>upgrad learner switches to career in ml al wit...</td>\n",
       "    </tr>\n",
       "    <tr>\n",
       "      <th>2</th>\n",
       "      <td>new zealand defeated india wickets fourth odi ...</td>\n",
       "      <td>new zealand end rohit sharma led india match w...</td>\n",
       "    </tr>\n",
       "    <tr>\n",
       "      <th>3</th>\n",
       "      <td>aegon life iterm insurance plan customers enjo...</td>\n",
       "      <td>aegon life iterm insurance plan helps customer...</td>\n",
       "    </tr>\n",
       "    <tr>\n",
       "      <th>5</th>\n",
       "      <td>pakistani singer rahat fateh ali khan denied r...</td>\n",
       "      <td>rahat fateh ali khan denies getting notice for...</td>\n",
       "    </tr>\n",
       "    <tr>\n",
       "      <th>7</th>\n",
       "      <td>weeks ex cbi director alok verma told departme...</td>\n",
       "      <td>govt directs alok verma to join work day befor...</td>\n",
       "    </tr>\n",
       "  </tbody>\n",
       "</table>\n",
       "</div>"
      ],
      "text/plain": [
       "                                                text  \\\n",
       "0  saurav kant alumnus upgrad iiit pg program mac...   \n",
       "2  new zealand defeated india wickets fourth odi ...   \n",
       "3  aegon life iterm insurance plan customers enjo...   \n",
       "5  pakistani singer rahat fateh ali khan denied r...   \n",
       "7  weeks ex cbi director alok verma told departme...   \n",
       "\n",
       "                                           headlines  \n",
       "0  upgrad learner switches to career in ml al wit...  \n",
       "2  new zealand end rohit sharma led india match w...  \n",
       "3  aegon life iterm insurance plan helps customer...  \n",
       "5  rahat fateh ali khan denies getting notice for...  \n",
       "7  govt directs alok verma to join work day befor...  "
      ]
     },
     "execution_count": 21,
     "metadata": {},
     "output_type": "execute_result"
    }
   ],
   "source": [
    "data.head()"
   ]
  },
  {
   "cell_type": "markdown",
   "id": "1d33a42d",
   "metadata": {},
   "source": [
    "### 시작토큰 & 종료토큰 삽입하기\n",
    "디코더는 시작 토큰을 입력받아 문장을 생성하기 시작하고, 종료 토큰을 예측한 순간에 문장 생성을 멈추는 방식\n",
    "\n",
    "- 시작 토큰은 sostoken, 종료 토큰은 eostoken이라 임의로 명명하고 앞, 뒤로 추가\n",
    "\n",
    "\n",
    "- 디코더의 입력에 해당하면서 시작 토큰이 맨 앞에 있는 문장의 이름을 decoder_input, 디코더의 출력 또는 레이블에 해당되면서 종료 토큰이 맨 뒤에 붙는 문장의 이름을 decoder_target"
   ]
  },
  {
   "cell_type": "code",
   "execution_count": 22,
   "id": "b6ac38de",
   "metadata": {
    "scrolled": true
   },
   "outputs": [
    {
     "data": {
      "text/html": [
       "<div>\n",
       "<style scoped>\n",
       "    .dataframe tbody tr th:only-of-type {\n",
       "        vertical-align: middle;\n",
       "    }\n",
       "\n",
       "    .dataframe tbody tr th {\n",
       "        vertical-align: top;\n",
       "    }\n",
       "\n",
       "    .dataframe thead th {\n",
       "        text-align: right;\n",
       "    }\n",
       "</style>\n",
       "<table border=\"1\" class=\"dataframe\">\n",
       "  <thead>\n",
       "    <tr style=\"text-align: right;\">\n",
       "      <th></th>\n",
       "      <th>text</th>\n",
       "      <th>headlines</th>\n",
       "      <th>decoder_input</th>\n",
       "      <th>decoder_target</th>\n",
       "    </tr>\n",
       "  </thead>\n",
       "  <tbody>\n",
       "    <tr>\n",
       "      <th>0</th>\n",
       "      <td>saurav kant alumnus upgrad iiit pg program mac...</td>\n",
       "      <td>upgrad learner switches to career in ml al wit...</td>\n",
       "      <td>sostoken upgrad learner switches to career in ...</td>\n",
       "      <td>upgrad learner switches to career in ml al wit...</td>\n",
       "    </tr>\n",
       "    <tr>\n",
       "      <th>2</th>\n",
       "      <td>new zealand defeated india wickets fourth odi ...</td>\n",
       "      <td>new zealand end rohit sharma led india match w...</td>\n",
       "      <td>sostoken new zealand end rohit sharma led indi...</td>\n",
       "      <td>new zealand end rohit sharma led india match w...</td>\n",
       "    </tr>\n",
       "    <tr>\n",
       "      <th>3</th>\n",
       "      <td>aegon life iterm insurance plan customers enjo...</td>\n",
       "      <td>aegon life iterm insurance plan helps customer...</td>\n",
       "      <td>sostoken aegon life iterm insurance plan helps...</td>\n",
       "      <td>aegon life iterm insurance plan helps customer...</td>\n",
       "    </tr>\n",
       "    <tr>\n",
       "      <th>5</th>\n",
       "      <td>pakistani singer rahat fateh ali khan denied r...</td>\n",
       "      <td>rahat fateh ali khan denies getting notice for...</td>\n",
       "      <td>sostoken rahat fateh ali khan denies getting n...</td>\n",
       "      <td>rahat fateh ali khan denies getting notice for...</td>\n",
       "    </tr>\n",
       "    <tr>\n",
       "      <th>7</th>\n",
       "      <td>weeks ex cbi director alok verma told departme...</td>\n",
       "      <td>govt directs alok verma to join work day befor...</td>\n",
       "      <td>sostoken govt directs alok verma to join work ...</td>\n",
       "      <td>govt directs alok verma to join work day befor...</td>\n",
       "    </tr>\n",
       "  </tbody>\n",
       "</table>\n",
       "</div>"
      ],
      "text/plain": [
       "                                                text  \\\n",
       "0  saurav kant alumnus upgrad iiit pg program mac...   \n",
       "2  new zealand defeated india wickets fourth odi ...   \n",
       "3  aegon life iterm insurance plan customers enjo...   \n",
       "5  pakistani singer rahat fateh ali khan denied r...   \n",
       "7  weeks ex cbi director alok verma told departme...   \n",
       "\n",
       "                                           headlines  \\\n",
       "0  upgrad learner switches to career in ml al wit...   \n",
       "2  new zealand end rohit sharma led india match w...   \n",
       "3  aegon life iterm insurance plan helps customer...   \n",
       "5  rahat fateh ali khan denies getting notice for...   \n",
       "7  govt directs alok verma to join work day befor...   \n",
       "\n",
       "                                       decoder_input  \\\n",
       "0  sostoken upgrad learner switches to career in ...   \n",
       "2  sostoken new zealand end rohit sharma led indi...   \n",
       "3  sostoken aegon life iterm insurance plan helps...   \n",
       "5  sostoken rahat fateh ali khan denies getting n...   \n",
       "7  sostoken govt directs alok verma to join work ...   \n",
       "\n",
       "                                      decoder_target  \n",
       "0  upgrad learner switches to career in ml al wit...  \n",
       "2  new zealand end rohit sharma led india match w...  \n",
       "3  aegon life iterm insurance plan helps customer...  \n",
       "5  rahat fateh ali khan denies getting notice for...  \n",
       "7  govt directs alok verma to join work day befor...  "
      ]
     },
     "execution_count": 22,
     "metadata": {},
     "output_type": "execute_result"
    }
   ],
   "source": [
    "# 요약 데이터에는 시작 토큰과 종료 토큰을 추가한다.\n",
    "data['decoder_input'] = data['headlines'].apply(lambda x : 'sostoken '+ x)\n",
    "data['decoder_target'] = data['headlines'].apply(lambda x : x + ' eostoken')\n",
    "data.head()"
   ]
  },
  {
   "cell_type": "markdown",
   "id": "74ab6b2c",
   "metadata": {},
   "source": [
    " 인코더의 입력, 디코더의 입력과 레이블을 각각 다시 Numpy 타입으로 저장"
   ]
  },
  {
   "cell_type": "code",
   "execution_count": 23,
   "id": "5eaec9af",
   "metadata": {},
   "outputs": [
    {
     "name": "stdout",
     "output_type": "stream",
     "text": [
      "=3\n"
     ]
    }
   ],
   "source": [
    "encoder_input = np.array(data['text']) # 인코더의 입력\n",
    "decoder_input = np.array(data['decoder_input']) # 디코더의 입력\n",
    "decoder_target = np.array(data['decoder_target']) # 디코더의 레이블\n",
    "print('=3')"
   ]
  },
  {
   "cell_type": "markdown",
   "id": "fece7942",
   "metadata": {},
   "source": [
    "### 훈련데이터 & 평가데이터로 분리\n",
    "직접 코딩해 변경하기\n",
    "\n",
    "데이터 8:2비율로 훈련셋, 평가셋 분리"
   ]
  },
  {
   "cell_type": "code",
   "execution_count": 24,
   "id": "eec71f33",
   "metadata": {},
   "outputs": [
    {
     "name": "stdout",
     "output_type": "stream",
     "text": [
      "[79705 85955  1948 ... 47430 28772 20031]\n",
      "테스트 데이터의 수 : 18531\n",
      "훈련 데이터의 개수 : 74125\n",
      "훈련 레이블의 개수 : 74125\n",
      "테스트 데이터의 개수 : 18531\n",
      "테스트 레이블의 개수 : 18531\n"
     ]
    }
   ],
   "source": [
    "#encoder_input과 크기와 형태가 같은 순서가 섞인 정수 시퀸스 만듦\n",
    "indices = np.arange(encoder_input.shape[0])\n",
    "np.random.shuffle(indices)\n",
    "print(indices)\n",
    "\n",
    "#이렇게 만든 정수 시퀸스를 이용해 랜덤으로 데이터 샘플순서 섞기\n",
    "encoder_input = encoder_input[indices]\n",
    "decoder_input = decoder_input[indices]\n",
    "decoder_target = decoder_target[indices]\n",
    "\n",
    "#데이터 8:2비율로 훈련셋, 평가셋 분리\n",
    "n_of_val = int(len(encoder_input)*0.2)\n",
    "print('테스트 데이터의 수 :', n_of_val)\n",
    "\n",
    "#테스트 갯수 이용해 전테 데이터 양분\n",
    "encoder_input_train = encoder_input[:-n_of_val]\n",
    "decoder_input_train = decoder_input[:-n_of_val]\n",
    "decoder_target_train = decoder_target[:-n_of_val]\n",
    "\n",
    "encoder_input_test = encoder_input[-n_of_val:]\n",
    "decoder_input_test = decoder_input[-n_of_val:]\n",
    "decoder_target_test = decoder_target[-n_of_val:]\n",
    "\n",
    "print('훈련 데이터의 개수 :', len(encoder_input_train))\n",
    "print('훈련 레이블의 개수 :', len(decoder_input_train))\n",
    "print('테스트 데이터의 개수 :', len(encoder_input_test))\n",
    "print('테스트 레이블의 개수 :', len(decoder_input_test))"
   ]
  },
  {
   "cell_type": "markdown",
   "id": "9155f5a9",
   "metadata": {},
   "source": [
    "### 단어 집합 만들기 및 정수 인코딩\n",
    "\n",
    "#### 단어 집합(vocabulary)?\n",
    "- 기계가 텍스트를 숫자로 처리할 수 있도록 훈련 데이터와 테스트 데이터의 단어들을 모두 정수로 바꾸는 것. (각 단어에 고유한 정수를 맵핑)\n",
    "\n",
    "원문에 해당되는 encoder_input_train에 대해서 단어 집합 생성"
   ]
  },
  {
   "cell_type": "markdown",
   "id": "947b97f9",
   "metadata": {},
   "source": [
    "###  encoder_input_train 처리하기(text data)\n",
    "\n",
    "#### 토크나이저 가져오고 encoder_input_train 데이터 넣기"
   ]
  },
  {
   "cell_type": "code",
   "execution_count": 25,
   "id": "6c0afc23",
   "metadata": {},
   "outputs": [
    {
     "name": "stdout",
     "output_type": "stream",
     "text": [
      "=3\n"
     ]
    }
   ],
   "source": [
    "src_tokenizer = Tokenizer() # 토크나이저 정의\n",
    "src_tokenizer.fit_on_texts(encoder_input_train) # 입력된 데이터로부터 단어 집합 생성\n",
    "print('=3')"
   ]
  },
  {
   "cell_type": "markdown",
   "id": "5a40703f",
   "metadata": {},
   "source": [
    "현재 생성된 단어 집합은 src_tokenizer.word_index에 저장"
   ]
  },
  {
   "cell_type": "code",
   "execution_count": 26,
   "id": "34a85c35",
   "metadata": {},
   "outputs": [
    {
     "data": {
      "text/plain": [
       "{'said': 1,\n",
       " 'india': 2,\n",
       " 'year': 3,\n",
       " 'added': 4,\n",
       " 'us': 5,\n",
       " 'also': 6,\n",
       " 'government': 7,\n",
       " 'first': 8,\n",
       " 'police': 9,\n",
       " 'people': 10,\n",
       " 'indian': 11,\n",
       " 'two': 12,\n",
       " 'old': 13,\n",
       " 'film': 14,\n",
       " 'minister': 15,\n",
       " 'president': 16,\n",
       " 'one': 17,\n",
       " 'crore': 18,\n",
       " 'world': 19,\n",
       " 'court': 20,\n",
       " 'state': 21,\n",
       " 'reportedly': 22,\n",
       " 'years': 23,\n",
       " 'new': 24,\n",
       " 'would': 25,\n",
       " 'delhi': 26,\n",
       " 'former': 27,\n",
       " 'time': 28,\n",
       " 'last': 29,\n",
       " 'reports': 30,\n",
       " 'three': 31,\n",
       " 'company': 32,\n",
       " 'based': 33,\n",
       " 'earlier': 34,\n",
       " 'like': 35,\n",
       " 'congress': 36,\n",
       " 'country': 37,\n",
       " 'man': 38,\n",
       " 'bjp': 39,\n",
       " 'claimed': 40,\n",
       " 'trump': 41,\n",
       " 'accused': 42,\n",
       " 'team': 43,\n",
       " 'day': 44,\n",
       " 'pakistan': 45,\n",
       " 'chief': 46,\n",
       " 'million': 47,\n",
       " 'singh': 48,\n",
       " 'according': 49,\n",
       " 'modi': 50,\n",
       " 'women': 51,\n",
       " 'allegedly': 52,\n",
       " 'actor': 53,\n",
       " 'pm': 54,\n",
       " 'made': 55,\n",
       " 'lakh': 56,\n",
       " 'tuesday': 57,\n",
       " 'friday': 58,\n",
       " 'party': 59,\n",
       " 'monday': 60,\n",
       " 'wednesday': 61,\n",
       " 'comes': 62,\n",
       " 'called': 63,\n",
       " 'pradesh': 64,\n",
       " 'woman': 65,\n",
       " 'around': 66,\n",
       " 'video': 67,\n",
       " 'billion': 68,\n",
       " 'thursday': 69,\n",
       " 'including': 70,\n",
       " 'asked': 71,\n",
       " 'mumbai': 72,\n",
       " 'case': 73,\n",
       " 'took': 74,\n",
       " 'tweeted': 75,\n",
       " 'found': 76,\n",
       " 'national': 77,\n",
       " 'actress': 78,\n",
       " 'test': 79,\n",
       " 'four': 80,\n",
       " 'could': 81,\n",
       " 'cm': 82,\n",
       " 'officials': 83,\n",
       " 'khan': 84,\n",
       " 'saturday': 85,\n",
       " 'arrested': 86,\n",
       " 'revealed': 87,\n",
       " 'sunday': 88,\n",
       " 'leader': 89,\n",
       " 'five': 90,\n",
       " 'announced': 91,\n",
       " 'second': 92,\n",
       " 'high': 93,\n",
       " 'group': 94,\n",
       " 'following': 95,\n",
       " 'used': 96,\n",
       " 'wrote': 97,\n",
       " 'match': 98,\n",
       " 'startup': 99,\n",
       " 'however': 100,\n",
       " 'users': 101,\n",
       " 'since': 102,\n",
       " 'notably': 103,\n",
       " 'captain': 104,\n",
       " 'china': 105,\n",
       " 'alleged': 106,\n",
       " 'take': 107,\n",
       " 'killed': 108,\n",
       " 'media': 109,\n",
       " 'bank': 110,\n",
       " 'part': 111,\n",
       " 'due': 112,\n",
       " 'cricket': 113,\n",
       " 'family': 114,\n",
       " 'may': 115,\n",
       " 'led': 116,\n",
       " 'international': 117,\n",
       " 'ceo': 118,\n",
       " 'th': 119,\n",
       " 'make': 120,\n",
       " 'per': 121,\n",
       " 'security': 122,\n",
       " 'narendra': 123,\n",
       " 'days': 124,\n",
       " 'donald': 125,\n",
       " 'facebook': 126,\n",
       " 'six': 127,\n",
       " 'set': 128,\n",
       " 'get': 129,\n",
       " 'month': 130,\n",
       " 'adding': 131,\n",
       " 'air': 132,\n",
       " 'twitter': 133,\n",
       " 'gandhi': 134,\n",
       " 'south': 135,\n",
       " 'house': 136,\n",
       " 'data': 137,\n",
       " 'home': 138,\n",
       " 'report': 139,\n",
       " 'using': 140,\n",
       " 'kapoor': 141,\n",
       " 'number': 142,\n",
       " 'help': 143,\n",
       " 'life': 144,\n",
       " 'north': 145,\n",
       " 'another': 146,\n",
       " 'incident': 147,\n",
       " 'work': 148,\n",
       " 'official': 149,\n",
       " 'several': 150,\n",
       " 'picture': 151,\n",
       " 'series': 152,\n",
       " 'social': 153,\n",
       " 'saying': 154,\n",
       " 'board': 155,\n",
       " 'least': 156,\n",
       " 'seen': 157,\n",
       " 'released': 158,\n",
       " 'post': 159,\n",
       " 'prime': 160,\n",
       " 'week': 161,\n",
       " 'google': 162,\n",
       " 'kumar': 163,\n",
       " 'public': 164,\n",
       " 'filed': 165,\n",
       " 'girl': 166,\n",
       " 'later': 167,\n",
       " 'students': 168,\n",
       " 'show': 169,\n",
       " 'launched': 170,\n",
       " 'next': 171,\n",
       " 'uttar': 172,\n",
       " 'upcoming': 173,\n",
       " 'wife': 174,\n",
       " 'supreme': 175,\n",
       " 'back': 176,\n",
       " 'user': 177,\n",
       " 'among': 178,\n",
       " 'third': 179,\n",
       " 'city': 180,\n",
       " 'death': 181,\n",
       " 'car': 182,\n",
       " 'money': 183,\n",
       " 'record': 184,\n",
       " 'hospital': 185,\n",
       " 'nearly': 186,\n",
       " 'union': 187,\n",
       " 'elections': 188,\n",
       " 'without': 189,\n",
       " 'recently': 190,\n",
       " 'become': 191,\n",
       " 'attack': 192,\n",
       " 'taken': 193,\n",
       " 'school': 194,\n",
       " 'months': 195,\n",
       " 'technology': 196,\n",
       " 'australia': 197,\n",
       " 'rahul': 198,\n",
       " 'talking': 199,\n",
       " 'many': 200,\n",
       " 'director': 201,\n",
       " 'centre': 202,\n",
       " 'others': 203,\n",
       " 'men': 204,\n",
       " 'release': 205,\n",
       " 'children': 206,\n",
       " 'even': 207,\n",
       " 'shared': 208,\n",
       " 'online': 209,\n",
       " 'named': 210,\n",
       " 'got': 211,\n",
       " 'cup': 212,\n",
       " 'kohli': 213,\n",
       " 'times': 214,\n",
       " 'researchers': 215,\n",
       " 'worth': 216,\n",
       " 'uk': 217,\n",
       " 'ever': 218,\n",
       " 'run': 219,\n",
       " 'co': 220,\n",
       " 'district': 221,\n",
       " 'ministry': 222,\n",
       " 'away': 223,\n",
       " 'deal': 224,\n",
       " 'reported': 225,\n",
       " 'korea': 226,\n",
       " 'use': 227,\n",
       " 'son': 228,\n",
       " 'across': 229,\n",
       " 'making': 230,\n",
       " 'came': 231,\n",
       " 'win': 232,\n",
       " 'directed': 233,\n",
       " 'held': 234,\n",
       " 'body': 235,\n",
       " 'order': 236,\n",
       " 'hit': 237,\n",
       " 'law': 238,\n",
       " 'given': 239,\n",
       " 'founder': 240,\n",
       " 'long': 241,\n",
       " 'system': 242,\n",
       " 'place': 243,\n",
       " 'final': 244,\n",
       " 'cannot': 245,\n",
       " 'capital': 246,\n",
       " 'received': 247,\n",
       " 'father': 248,\n",
       " 'open': 249,\n",
       " 'sharma': 250,\n",
       " 'army': 251,\n",
       " 'app': 252,\n",
       " 'died': 253,\n",
       " 'england': 254,\n",
       " 'along': 255,\n",
       " 'apple': 256,\n",
       " 'event': 257,\n",
       " 'members': 258,\n",
       " 'general': 259,\n",
       " 'american': 260,\n",
       " 'working': 261,\n",
       " 'chinese': 262,\n",
       " 'every': 263,\n",
       " 'water': 264,\n",
       " 'taking': 265,\n",
       " 'hours': 266,\n",
       " 'told': 267,\n",
       " 'started': 268,\n",
       " 'highest': 269,\n",
       " 'flight': 270,\n",
       " 'firm': 271,\n",
       " 'karnataka': 272,\n",
       " 'tax': 273,\n",
       " 'assembly': 274,\n",
       " 'pay': 275,\n",
       " 'best': 276,\n",
       " 'injured': 277,\n",
       " 'daughter': 278,\n",
       " 'kashmir': 279,\n",
       " 'largest': 280,\n",
       " 'decision': 281,\n",
       " 'top': 282,\n",
       " 'come': 283,\n",
       " 'space': 284,\n",
       " 'raised': 285,\n",
       " 'fire': 286,\n",
       " 'services': 287,\n",
       " 'lost': 288,\n",
       " 'university': 289,\n",
       " 'seven': 290,\n",
       " 'united': 291,\n",
       " 'shah': 292,\n",
       " 'runs': 293,\n",
       " 'department': 294,\n",
       " 'total': 295,\n",
       " 'airport': 296,\n",
       " 'way': 297,\n",
       " 'play': 298,\n",
       " 'never': 299,\n",
       " 'service': 300,\n",
       " 'left': 301,\n",
       " 'name': 302,\n",
       " 'went': 303,\n",
       " 'person': 304,\n",
       " 'human': 305,\n",
       " 'within': 306,\n",
       " 'kerala': 307,\n",
       " 'go': 308,\n",
       " 'states': 309,\n",
       " 'today': 310,\n",
       " 'player': 311,\n",
       " 'authorities': 312,\n",
       " 'countries': 313,\n",
       " 'cricketer': 314,\n",
       " 'australian': 315,\n",
       " 'became': 316,\n",
       " 'right': 317,\n",
       " 'star': 318,\n",
       " 'mother': 319,\n",
       " 'end': 320,\n",
       " 'companies': 321,\n",
       " 'officer': 322,\n",
       " 'employees': 323,\n",
       " 'bengaluru': 324,\n",
       " 'want': 325,\n",
       " 'read': 326,\n",
       " 'well': 327,\n",
       " 'russia': 328,\n",
       " 'issued': 329,\n",
       " 'power': 330,\n",
       " 'food': 331,\n",
       " 'gold': 332,\n",
       " 'business': 333,\n",
       " 'playing': 334,\n",
       " 'central': 335,\n",
       " 'meanwhile': 336,\n",
       " 'action': 337,\n",
       " 'maharashtra': 338,\n",
       " 'information': 339,\n",
       " 'films': 340,\n",
       " 'foreign': 341,\n",
       " 'private': 342,\n",
       " 'sexual': 343,\n",
       " 'known': 344,\n",
       " 'december': 345,\n",
       " 'posted': 346,\n",
       " 'currently': 347,\n",
       " 'support': 348,\n",
       " 'russian': 349,\n",
       " 'ram': 350,\n",
       " 'chairman': 351,\n",
       " 'odi': 352,\n",
       " 'special': 353,\n",
       " 'eight': 354,\n",
       " 'march': 355,\n",
       " 'office': 356,\n",
       " 'market': 357,\n",
       " 'good': 358,\n",
       " 'share': 359,\n",
       " 'league': 360,\n",
       " 'free': 361,\n",
       " 'move': 362,\n",
       " 'near': 363,\n",
       " 'speaking': 364,\n",
       " 'cases': 365,\n",
       " 'round': 366,\n",
       " 'gujarat': 367,\n",
       " 'meeting': 368,\n",
       " 'role': 369,\n",
       " 'june': 370,\n",
       " 'face': 371,\n",
       " 'issue': 372,\n",
       " 'sent': 373,\n",
       " 'amid': 374,\n",
       " 'slammed': 375,\n",
       " 'give': 376,\n",
       " 'instagram': 377,\n",
       " 'election': 378,\n",
       " 'tweet': 379,\n",
       " 'head': 380,\n",
       " 'war': 381,\n",
       " 'claiming': 382,\n",
       " 'scheduled': 383,\n",
       " 'ban': 384,\n",
       " 'tamil': 385,\n",
       " 'visit': 386,\n",
       " 'child': 387,\n",
       " 'list': 388,\n",
       " 'commission': 389,\n",
       " 'virat': 390,\n",
       " 'ahead': 391,\n",
       " 'registered': 392,\n",
       " 'non': 393,\n",
       " 'song': 394,\n",
       " 'investigation': 395,\n",
       " 'passengers': 396,\n",
       " 'military': 397,\n",
       " 'september': 398,\n",
       " 'april': 399,\n",
       " 'nuclear': 400,\n",
       " 'going': 401,\n",
       " 'un': 402,\n",
       " 'ball': 403,\n",
       " 'platform': 404,\n",
       " 'statement': 405,\n",
       " 'august': 406,\n",
       " 'class': 407,\n",
       " 'january': 408,\n",
       " 'anti': 409,\n",
       " 'development': 410,\n",
       " 'sabha': 411,\n",
       " 'ago': 412,\n",
       " 'senior': 413,\n",
       " 'scored': 414,\n",
       " 'funding': 415,\n",
       " 'health': 416,\n",
       " 'secretary': 417,\n",
       " 'feature': 418,\n",
       " 'global': 419,\n",
       " 'uber': 420,\n",
       " 'love': 421,\n",
       " 'west': 422,\n",
       " 'husband': 423,\n",
       " 'shows': 424,\n",
       " 'defence': 425,\n",
       " 'punjab': 426,\n",
       " 'played': 427,\n",
       " 'leaders': 428,\n",
       " 'much': 429,\n",
       " 'bihar': 430,\n",
       " 'salman': 431,\n",
       " 'real': 432,\n",
       " 'boy': 433,\n",
       " 'passed': 434,\n",
       " 'political': 435,\n",
       " 'station': 436,\n",
       " 'major': 437,\n",
       " 'sri': 438,\n",
       " 'ipl': 439,\n",
       " 'pakistani': 440,\n",
       " 'train': 441,\n",
       " 'think': 442,\n",
       " 'need': 443,\n",
       " 'giant': 444,\n",
       " 'inside': 445,\n",
       " 'age': 446,\n",
       " 'complaint': 447,\n",
       " 'finance': 448,\n",
       " 'singer': 449,\n",
       " 'recent': 450,\n",
       " 'student': 451,\n",
       " 'know': 452,\n",
       " 'news': 453,\n",
       " 'launch': 454,\n",
       " 'yadav': 455,\n",
       " 'shot': 456,\n",
       " 'players': 457,\n",
       " 'july': 458,\n",
       " 'amazon': 459,\n",
       " 'area': 460,\n",
       " 'project': 461,\n",
       " 'suicide': 462,\n",
       " 'ex': 463,\n",
       " 'late': 464,\n",
       " 'failed': 465,\n",
       " 'couple': 466,\n",
       " 'rape': 467,\n",
       " 'trying': 468,\n",
       " 'side': 469,\n",
       " 'expected': 470,\n",
       " 'put': 471,\n",
       " 'fake': 472,\n",
       " 'ordered': 473,\n",
       " 'different': 474,\n",
       " 'wedding': 475,\n",
       " 'medical': 476,\n",
       " 'financial': 477,\n",
       " 'see': 478,\n",
       " 'forces': 479,\n",
       " 'member': 480,\n",
       " 'denied': 481,\n",
       " 'towards': 482,\n",
       " 'cbi': 483,\n",
       " 'award': 484,\n",
       " 'study': 485,\n",
       " 'dead': 486,\n",
       " 'november': 487,\n",
       " 'force': 488,\n",
       " 'claims': 489,\n",
       " 'act': 490,\n",
       " 'jail': 491,\n",
       " 'scientists': 492,\n",
       " 'agency': 493,\n",
       " 'founded': 494,\n",
       " 'october': 495,\n",
       " 'bollywood': 496,\n",
       " 'female': 497,\n",
       " 'game': 498,\n",
       " 'allegations': 499,\n",
       " 'building': 500,\n",
       " 'jammu': 501,\n",
       " 'decided': 502,\n",
       " 'lead': 503,\n",
       " 'getting': 504,\n",
       " 'stated': 505,\n",
       " 'earth': 506,\n",
       " 'bill': 507,\n",
       " 'still': 508,\n",
       " 'quarter': 509,\n",
       " 'history': 510,\n",
       " 'mp': 511,\n",
       " 'road': 512,\n",
       " 'past': 513,\n",
       " 'control': 514,\n",
       " 'victim': 515,\n",
       " 'british': 516,\n",
       " 'korean': 517,\n",
       " 'stop': 518,\n",
       " 'white': 519,\n",
       " 'phone': 520,\n",
       " 'allowed': 521,\n",
       " 'mark': 522,\n",
       " 'change': 523,\n",
       " 'local': 524,\n",
       " 'driver': 525,\n",
       " 'nadu': 526,\n",
       " 'account': 527,\n",
       " 'wanted': 528,\n",
       " 'rights': 529,\n",
       " 'games': 530,\n",
       " 'outside': 531,\n",
       " 'dhoni': 532,\n",
       " 'together': 533,\n",
       " 'campaign': 534,\n",
       " 'married': 535,\n",
       " 'railway': 536,\n",
       " 'despite': 537,\n",
       " 'saudi': 538,\n",
       " 'workers': 539,\n",
       " 'calling': 540,\n",
       " 'paid': 541,\n",
       " 'plans': 542,\n",
       " 'minutes': 543,\n",
       " 'temple': 544,\n",
       " 'birthday': 545,\n",
       " 'sachin': 546,\n",
       " 'vice': 547,\n",
       " 'sharing': 548,\n",
       " 'batsman': 549,\n",
       " 'provide': 550,\n",
       " 'ali': 551,\n",
       " 'starrer': 552,\n",
       " 'iran': 553,\n",
       " 'committee': 554,\n",
       " 'debut': 555,\n",
       " 'look': 556,\n",
       " 'cost': 557,\n",
       " 'rajasthan': 558,\n",
       " 'nation': 559,\n",
       " 'priyanka': 560,\n",
       " 'planning': 561,\n",
       " 'football': 562,\n",
       " 'seeking': 563,\n",
       " 'london': 564,\n",
       " 'refused': 565,\n",
       " 'till': 566,\n",
       " 'violence': 567,\n",
       " 'behind': 568,\n",
       " 'banned': 569,\n",
       " 'gst': 570,\n",
       " 'mobile': 571,\n",
       " 'developed': 572,\n",
       " 'live': 573,\n",
       " 'parents': 574,\n",
       " 'border': 575,\n",
       " 'reacting': 576,\n",
       " 'night': 577,\n",
       " 'musk': 578,\n",
       " 'cash': 579,\n",
       " 'haryana': 580,\n",
       " 'big': 581,\n",
       " 'letter': 582,\n",
       " 'fund': 583,\n",
       " 'winning': 584,\n",
       " 'amount': 585,\n",
       " 'black': 586,\n",
       " 'always': 587,\n",
       " 'single': 588,\n",
       " 'previous': 589,\n",
       " 'nasa': 590,\n",
       " 'great': 591,\n",
       " 'half': 592,\n",
       " 'aircraft': 593,\n",
       " 'parliament': 594,\n",
       " 'pictures': 595,\n",
       " 'confirmed': 596,\n",
       " 'call': 597,\n",
       " 'declared': 598,\n",
       " 'nine': 599,\n",
       " 'affairs': 600,\n",
       " 'light': 601,\n",
       " 'coach': 602,\n",
       " 'fell': 603,\n",
       " 'matches': 604,\n",
       " 'biggest': 605,\n",
       " 'africa': 606,\n",
       " 'madhya': 607,\n",
       " 'fourth': 608,\n",
       " 'protest': 609,\n",
       " 'murder': 610,\n",
       " 'instead': 611,\n",
       " 'staff': 612,\n",
       " 'land': 613,\n",
       " 'career': 614,\n",
       " 'tesla': 615,\n",
       " 'charges': 616,\n",
       " 'sale': 617,\n",
       " 'french': 618,\n",
       " 'muslim': 619,\n",
       " 'filmmaker': 620,\n",
       " 'suspended': 621,\n",
       " 'banks': 622,\n",
       " 'justice': 623,\n",
       " 'personal': 624,\n",
       " 'season': 625,\n",
       " 'club': 626,\n",
       " 'investors': 627,\n",
       " 'showed': 628,\n",
       " 'already': 629,\n",
       " 'offered': 630,\n",
       " 'far': 631,\n",
       " 'turned': 632,\n",
       " 'price': 633,\n",
       " 'met': 634,\n",
       " 'intelligence': 635,\n",
       " 'km': 636,\n",
       " 'opposition': 637,\n",
       " 'probe': 638,\n",
       " 'hyderabad': 639,\n",
       " 'lok': 640,\n",
       " 'written': 641,\n",
       " 'loss': 642,\n",
       " 'start': 643,\n",
       " 'current': 644,\n",
       " 'missing': 645,\n",
       " 'education': 646,\n",
       " 'vehicles': 647,\n",
       " 'leave': 648,\n",
       " 'flipkart': 649,\n",
       " 'yet': 650,\n",
       " 'japan': 651,\n",
       " 'must': 652,\n",
       " 'self': 653,\n",
       " 'industry': 654,\n",
       " 'innings': 655,\n",
       " 'increase': 656,\n",
       " 'level': 657,\n",
       " 'bachchan': 658,\n",
       " 'better': 659,\n",
       " 'gave': 660,\n",
       " 'aadhaar': 661,\n",
       " 'stake': 662,\n",
       " 'spokesperson': 663,\n",
       " 'model': 664,\n",
       " 'admitted': 665,\n",
       " 'income': 666,\n",
       " 'owned': 667,\n",
       " 'customers': 668,\n",
       " 'shares': 669,\n",
       " 'include': 670,\n",
       " 'character': 671,\n",
       " 'hotel': 672,\n",
       " 'policy': 673,\n",
       " 'stating': 674,\n",
       " 'nations': 675,\n",
       " 'driving': 676,\n",
       " 'able': 677,\n",
       " 'matter': 678,\n",
       " 'return': 679,\n",
       " 'harassment': 680,\n",
       " 'indians': 681,\n",
       " 'photo': 682,\n",
       " 'february': 683,\n",
       " 'organisation': 684,\n",
       " 'caused': 685,\n",
       " 'created': 686,\n",
       " 'issues': 687,\n",
       " 'allow': 688,\n",
       " 'commerce': 689,\n",
       " 'tournament': 690,\n",
       " 'proposed': 691,\n",
       " 'brother': 692,\n",
       " 'cut': 693,\n",
       " 'farmers': 694,\n",
       " 'carrying': 695,\n",
       " 'tried': 696,\n",
       " 'girls': 697,\n",
       " 'period': 698,\n",
       " 'reliance': 699,\n",
       " 'happy': 700,\n",
       " 'accounts': 701,\n",
       " 'done': 702,\n",
       " 'vehicle': 703,\n",
       " 'bengal': 704,\n",
       " 'let': 705,\n",
       " 'create': 706,\n",
       " 'treatment': 707,\n",
       " 'demanded': 708,\n",
       " 'showing': 709,\n",
       " 'operations': 710,\n",
       " 'baby': 711,\n",
       " 'chopra': 712,\n",
       " 'wickets': 713,\n",
       " 'keep': 714,\n",
       " 'investment': 715,\n",
       " 'appointed': 716,\n",
       " 'afghanistan': 717,\n",
       " 'reach': 718,\n",
       " 'village': 719,\n",
       " 'sold': 720,\n",
       " 'term': 721,\n",
       " 'officers': 722,\n",
       " 'research': 723,\n",
       " 'fight': 724,\n",
       " 'rao': 725,\n",
       " 'plan': 726,\n",
       " 'form': 727,\n",
       " 'wearing': 728,\n",
       " 'score': 729,\n",
       " 'warned': 730,\n",
       " 'rbi': 731,\n",
       " 'process': 732,\n",
       " 'ongoing': 733,\n",
       " 'passenger': 734,\n",
       " 'forced': 735,\n",
       " 'say': 736,\n",
       " 'talks': 737,\n",
       " 'suggested': 738,\n",
       " 'council': 739,\n",
       " 'gone': 740,\n",
       " 'involved': 741,\n",
       " 'products': 742,\n",
       " 'trade': 743,\n",
       " 'electric': 744,\n",
       " 'region': 745,\n",
       " 'related': 746,\n",
       " 'economic': 747,\n",
       " 'continue': 748,\n",
       " 'full': 749,\n",
       " 'sought': 750,\n",
       " 'compared': 751,\n",
       " 'tv': 752,\n",
       " 'personnel': 753,\n",
       " 'governor': 754,\n",
       " 'bus': 755,\n",
       " 'spot': 756,\n",
       " 'features': 757,\n",
       " 'meet': 758,\n",
       " 'lanka': 759,\n",
       " 'less': 760,\n",
       " 'broke': 761,\n",
       " 'response': 762,\n",
       " 'andhra': 763,\n",
       " 'illegal': 764,\n",
       " 'reached': 765,\n",
       " 'find': 766,\n",
       " 'marriage': 767,\n",
       " 'cars': 768,\n",
       " 'job': 769,\n",
       " 'various': 770,\n",
       " 'revenue': 771,\n",
       " 'mla': 772,\n",
       " 'committed': 773,\n",
       " 'corporation': 774,\n",
       " 'hearing': 775,\n",
       " 'hand': 776,\n",
       " 'access': 777,\n",
       " 'airline': 778,\n",
       " 'line': 779,\n",
       " 'oil': 780,\n",
       " 'legal': 781,\n",
       " 'champions': 782,\n",
       " 'caught': 783,\n",
       " 'value': 784,\n",
       " 'deepika': 785,\n",
       " 'signed': 786,\n",
       " 'defeated': 787,\n",
       " 'notice': 788,\n",
       " 'zealand': 789,\n",
       " 'discovered': 790,\n",
       " 'travel': 791,\n",
       " 'sex': 792,\n",
       " 'forward': 793,\n",
       " 'ensure': 794,\n",
       " 'attacks': 795,\n",
       " 'sanjay': 796,\n",
       " 'threatened': 797,\n",
       " 'terror': 798,\n",
       " 'lot': 799,\n",
       " 'whatsapp': 800,\n",
       " 'room': 801,\n",
       " 'date': 802,\n",
       " 'story': 803,\n",
       " 'increased': 804,\n",
       " 'hindu': 805,\n",
       " 'looking': 806,\n",
       " 'safety': 807,\n",
       " 'community': 808,\n",
       " 'future': 809,\n",
       " 'born': 810,\n",
       " 'doctors': 811,\n",
       " 'built': 812,\n",
       " 'schools': 813,\n",
       " 'saw': 814,\n",
       " 'corruption': 815,\n",
       " 'friend': 816,\n",
       " 'friends': 817,\n",
       " 'york': 818,\n",
       " 'ranveer': 819,\n",
       " 'ended': 820,\n",
       " 'vijay': 821,\n",
       " 'addressing': 822,\n",
       " 'fans': 823,\n",
       " 'things': 824,\n",
       " 'adityanath': 825,\n",
       " 'whose': 826,\n",
       " 'seats': 827,\n",
       " 'judge': 828,\n",
       " 'title': 829,\n",
       " 'red': 830,\n",
       " 'internet': 831,\n",
       " 'ceremony': 832,\n",
       " 'small': 833,\n",
       " 'conducted': 834,\n",
       " 'close': 835,\n",
       " 'offer': 836,\n",
       " 'college': 837,\n",
       " 'agreed': 838,\n",
       " 'aged': 839,\n",
       " 'jaitley': 840,\n",
       " 'similar': 841,\n",
       " 'kg': 842,\n",
       " 'opened': 843,\n",
       " 'almost': 844,\n",
       " 'bcci': 845,\n",
       " 'citizens': 846,\n",
       " 'suffered': 847,\n",
       " 'pacer': 848,\n",
       " 'points': 849,\n",
       " 'website': 850,\n",
       " 'bangladesh': 851,\n",
       " 'aimed': 852,\n",
       " 'giving': 853,\n",
       " 'administration': 854,\n",
       " 'victims': 855,\n",
       " 'music': 856,\n",
       " 'yogi': 857,\n",
       " 'strike': 858,\n",
       " 'growth': 859,\n",
       " 'protests': 860,\n",
       " 'management': 861,\n",
       " 'english': 862,\n",
       " 'asian': 863,\n",
       " 'delivery': 864,\n",
       " 'hour': 865,\n",
       " 'traffic': 866,\n",
       " 'soon': 867,\n",
       " 'dismissed': 868,\n",
       " 'weeks': 869,\n",
       " 'approved': 870,\n",
       " 'television': 871,\n",
       " 'asking': 872,\n",
       " 'rejected': 873,\n",
       " 'metro': 874,\n",
       " 'airlines': 875,\n",
       " 'viral': 876,\n",
       " 'stars': 877,\n",
       " 'birth': 878,\n",
       " 'emergency': 879,\n",
       " 'joined': 880,\n",
       " 'actors': 881,\n",
       " 'kejriwal': 882,\n",
       " 'scheme': 883,\n",
       " 'karan': 884,\n",
       " 'digital': 885,\n",
       " 'rate': 886,\n",
       " 'deputy': 887,\n",
       " 'killing': 888,\n",
       " 'removed': 889,\n",
       " 'militants': 890,\n",
       " 'al': 891,\n",
       " 'feel': 892,\n",
       " 'cover': 893,\n",
       " 'helped': 894,\n",
       " 'arrest': 895,\n",
       " 'medal': 896,\n",
       " 'affected': 897,\n",
       " 'tendulkar': 898,\n",
       " 'festival': 899,\n",
       " 'rukh': 900,\n",
       " 'leading': 901,\n",
       " 'claim': 902,\n",
       " 'anil': 903,\n",
       " 'areas': 904,\n",
       " 'early': 905,\n",
       " 'charge': 906,\n",
       " 'net': 907,\n",
       " 'asia': 908,\n",
       " 'surfaced': 909,\n",
       " 'low': 910,\n",
       " 'rules': 911,\n",
       " 'began': 912,\n",
       " 'fine': 913,\n",
       " 'germany': 914,\n",
       " 'missile': 915,\n",
       " 'parties': 916,\n",
       " 'buy': 917,\n",
       " 'front': 918,\n",
       " 'imposed': 919,\n",
       " 'really': 920,\n",
       " 'included': 921,\n",
       " 'brought': 922,\n",
       " 'kapil': 923,\n",
       " 'akshay': 924,\n",
       " 'funds': 925,\n",
       " 'lives': 926,\n",
       " 'mission': 927,\n",
       " 'crime': 928,\n",
       " 'jobs': 929,\n",
       " 'ground': 930,\n",
       " 'accident': 931,\n",
       " 'injuries': 932,\n",
       " 'served': 933,\n",
       " 'device': 934,\n",
       " 'brand': 935,\n",
       " 'available': 936,\n",
       " 'islamic': 937,\n",
       " 'someone': 938,\n",
       " 'sector': 939,\n",
       " 'sena': 940,\n",
       " 'chennai': 941,\n",
       " 'worked': 942,\n",
       " 'iphone': 943,\n",
       " 'peace': 944,\n",
       " 'kangana': 945,\n",
       " 'programme': 946,\n",
       " 'rohit': 947,\n",
       " 'kolkata': 948,\n",
       " 'search': 949,\n",
       " 'wrong': 950,\n",
       " 'production': 951,\n",
       " 'german': 952,\n",
       " 'charged': 953,\n",
       " 'annual': 954,\n",
       " 'victory': 955,\n",
       " 'tests': 956,\n",
       " 'france': 957,\n",
       " 'terrorists': 958,\n",
       " 'training': 959,\n",
       " 'details': 960,\n",
       " 'followed': 961,\n",
       " 'network': 962,\n",
       " 'connection': 963,\n",
       " 'spinner': 964,\n",
       " 'fashion': 965,\n",
       " 'association': 966,\n",
       " 'goal': 967,\n",
       " 'shooting': 968,\n",
       " 'sanctions': 969,\n",
       " 'energy': 970,\n",
       " 'message': 971,\n",
       " 'plane': 972,\n",
       " 'amit': 973,\n",
       " 'premier': 974,\n",
       " 'attempt': 975,\n",
       " 'fraud': 976,\n",
       " 'trophy': 977,\n",
       " 'site': 978,\n",
       " 'authority': 979,\n",
       " 'elon': 980,\n",
       " 'performance': 981,\n",
       " 'grand': 982,\n",
       " 'anyone': 983,\n",
       " 'image': 984,\n",
       " 'payments': 985,\n",
       " 'hindi': 986,\n",
       " 'urged': 987,\n",
       " 'journalist': 988,\n",
       " 'featured': 989,\n",
       " 'wants': 990,\n",
       " 'fifa': 991,\n",
       " 'position': 992,\n",
       " 'something': 993,\n",
       " 'sell': 994,\n",
       " 'syria': 995,\n",
       " 'cause': 996,\n",
       " 'ms': 997,\n",
       " 'book': 998,\n",
       " 'joint': 999,\n",
       " 'interview': 1000,\n",
       " ...}"
      ]
     },
     "execution_count": 26,
     "metadata": {},
     "output_type": "execute_result"
    }
   ],
   "source": [
    "src_tokenizer.word_index"
   ]
  },
  {
   "cell_type": "markdown",
   "id": "9a54e19d",
   "metadata": {},
   "source": [
    "### 빈도수가 낮은 단어들은 훈련 데이터에서 제외하고 진행\n",
    "\n",
    "src_tokenizer.word_counts.items()에는 단어와 각 단어의 등장 빈도수가 저장, \n",
    "이를 통해서 통계적인 정보를 얻기 가능"
   ]
  },
  {
   "cell_type": "code",
   "execution_count": 27,
   "id": "8e21b6fd",
   "metadata": {},
   "outputs": [
    {
     "data": {
      "text/plain": [
       "68135"
      ]
     },
     "execution_count": 27,
     "metadata": {},
     "output_type": "execute_result"
    }
   ],
   "source": [
    "len(src_tokenizer.word_counts.items())"
   ]
  },
  {
   "cell_type": "markdown",
   "id": "5e35187e",
   "metadata": {},
   "source": [
    "등장 빈도수가 6회 이하인 단어들이 이 데이터에서 얼만큼의 비중을 차지하는지 확인"
   ]
  },
  {
   "cell_type": "code",
   "execution_count": 28,
   "id": "a6667e76",
   "metadata": {},
   "outputs": [
    {
     "name": "stdout",
     "output_type": "stream",
     "text": [
      "단어 집합(vocabulary)의 크기 : 68135\n",
      "등장 빈도가 6번 이하인 희귀 단어의 수: 44774\n",
      "단어 집합에서 희귀 단어를 제외시킬 경우의 단어 집합의 크기 23361\n",
      "단어 집합에서 희귀 단어의 비율: 65.71365671094152\n",
      "전체 등장 빈도에서 희귀 단어 등장 빈도 비율: 3.220223364182672\n"
     ]
    }
   ],
   "source": [
    "threshold = 6\n",
    "total_cnt = len(src_tokenizer.word_index) # 단어의 수\n",
    "rare_cnt = 0 # 등장 빈도수가 threshold보다 작은 단어의 개수를 카운트\n",
    "total_freq = 0 # 훈련 데이터의 전체 단어 빈도수 총 합\n",
    "rare_freq = 0 # 등장 빈도수가 threshold보다 작은 단어의 등장 빈도수의 총 합\n",
    "\n",
    "# 단어와 빈도수의 쌍(pair)을 key와 value로 받는다.\n",
    "for key, value in src_tokenizer.word_counts.items():\n",
    "    total_freq = total_freq + value\n",
    "\n",
    "    # 단어의 등장 빈도수가 threshold보다 작으면\n",
    "    if(value < threshold):\n",
    "        rare_cnt = rare_cnt + 1\n",
    "        rare_freq = rare_freq + value\n",
    "\n",
    "print('단어 집합(vocabulary)의 크기 :', total_cnt)\n",
    "print('등장 빈도가 %s번 이하인 희귀 단어의 수: %s'%(threshold, rare_cnt))\n",
    "print('단어 집합에서 희귀 단어를 제외시킬 경우의 단어 집합의 크기 %s'%(total_cnt - rare_cnt))\n",
    "print(\"단어 집합에서 희귀 단어의 비율:\", (rare_cnt / total_cnt)*100)\n",
    "print(\"전체 등장 빈도에서 희귀 단어 등장 빈도 비율:\", (rare_freq / total_freq)*100)"
   ]
  },
  {
   "cell_type": "markdown",
   "id": "14996396",
   "metadata": {},
   "source": [
    "등장 빈도가 6회 이하인 단어들은 정수 인코딩 과정에서 빼고, 훈련 데이터에서 제거\n",
    "\n",
    "위에서 이를 제외한 단어 집합의 크기를 2만여 개로 계산했는데, 이와 비슷한 값으로 어림잡아 단어 집합의 크기를 23,000으로 제한"
   ]
  },
  {
   "cell_type": "code",
   "execution_count": 29,
   "id": "fc41afd1",
   "metadata": {},
   "outputs": [
    {
     "name": "stdout",
     "output_type": "stream",
     "text": [
      "=3\n"
     ]
    }
   ],
   "source": [
    "src_vocab = 23000\n",
    "src_tokenizer = Tokenizer(num_words=src_vocab) # 단어 집합의 크기를 24,000으로 제한\n",
    "src_tokenizer.fit_on_texts(encoder_input_train) # 단어 집합 재생성\n",
    "print('=3')"
   ]
  },
  {
   "cell_type": "markdown",
   "id": "3920a9f6",
   "metadata": {},
   "source": [
    "### texts_to_sequences() 이용 정수 인코딩\n",
    "\n",
    "생성된 단어 집합에 기반하여 입력으로 주어진 텍스트 데이터의 단어들을 모두 정수로 변환하는 정수 인코딩을 수행\n",
    "\n",
    "현재 단어 집합의 크기를 23,000으로 제한했으니까 이제 23,000이 넘는 숫자들은 정수 인코딩 후에는 데이터에 존재 X"
   ]
  },
  {
   "cell_type": "code",
   "execution_count": 30,
   "id": "e753bc1c",
   "metadata": {
    "scrolled": true
   },
   "outputs": [
    {
     "name": "stdout",
     "output_type": "stream",
     "text": [
      "[[156, 10, 108, 146, 234, 4971, 890, 170, 2299, 462, 1196, 2300, 192, 672, 1345, 7867, 246, 15563, 61, 49, 30, 891, 4620, 1489, 1012, 94, 891, 9538, 1266, 16231, 13016, 7, 4364, 937, 14368, 40, 1433, 192], [463, 440, 848, 4500, 2765, 8, 311, 3771, 10650, 3645, 10650, 352, 24, 789, 399, 100, 184, 2656, 10197, 102, 1152, 565, 8404, 2779, 5021, 3440, 589, 1564, 1014, 1015, 10650, 197, 2612, 14967], [5, 33, 3956, 492, 99, 5897, 628, 235, 2793, 5319, 3870, 196, 257, 7626, 4079, 4387, 934, 22, 120, 177, 892, 9539, 11189, 90, 5122, 6462, 3481, 3086, 3841, 2793, 3059, 2185, 177, 8669, 14369, 235, 2793]]\n"
     ]
    }
   ],
   "source": [
    "# 텍스트 시퀀스를 정수 시퀀스로 변환\n",
    "encoder_input_train = src_tokenizer.texts_to_sequences(encoder_input_train) \n",
    "encoder_input_test = src_tokenizer.texts_to_sequences(encoder_input_test)\n",
    "\n",
    "# 잘 진행되었는지 샘플 출력\n",
    "print(encoder_input_train[:3])"
   ]
  },
  {
   "cell_type": "markdown",
   "id": "56921a53",
   "metadata": {},
   "source": [
    "###  decoder_input_train 처리하기(headlines data)\n",
    "\n",
    "#### 토크나이저 가져오고 decoder_input_train 데이터 넣기"
   ]
  },
  {
   "cell_type": "code",
   "execution_count": 31,
   "id": "db16f44c",
   "metadata": {},
   "outputs": [
    {
     "name": "stdout",
     "output_type": "stream",
     "text": [
      "=3\n"
     ]
    }
   ],
   "source": [
    "tar_tokenizer = Tokenizer()\n",
    "tar_tokenizer.fit_on_texts(decoder_input_train)\n",
    "print('=3')"
   ]
  },
  {
   "cell_type": "code",
   "execution_count": 32,
   "id": "d6960860",
   "metadata": {
    "scrolled": true
   },
   "outputs": [
    {
     "name": "stdout",
     "output_type": "stream",
     "text": [
      "단어 집합(vocabulary)의 크기 : 29556\n",
      "등장 빈도가 5번 이하인 희귀 단어의 수: 19437\n",
      "단어 집합에서 희귀 단어를 제외시킬 경우의 단어 집합의 크기 10119\n",
      "단어 집합에서 희귀 단어의 비율: 65.76329679252943\n",
      "전체 등장 빈도에서 희귀 단어 등장 빈도 비율: 4.9765574724971655\n"
     ]
    }
   ],
   "source": [
    "threshold = 6\n",
    "total_cnt = len(tar_tokenizer.word_index) # 단어의 수\n",
    "rare_cnt = 0 # 등장 빈도수가 threshold보다 작은 단어의 개수를 카운트\n",
    "total_freq = 0 # 훈련 데이터의 전체 단어 빈도수 총 합\n",
    "rare_freq = 0 # 등장 빈도수가 threshold보다 작은 단어의 등장 빈도수의 총 합\n",
    "\n",
    "# 단어와 빈도수의 쌍(pair)을 key와 value로 받는다.\n",
    "for key, value in tar_tokenizer.word_counts.items():\n",
    "    total_freq = total_freq + value\n",
    "\n",
    "    # 단어의 등장 빈도수가 threshold보다 작으면\n",
    "    if(value < threshold):\n",
    "        rare_cnt = rare_cnt + 1\n",
    "        rare_freq = rare_freq + value\n",
    "\n",
    "print('단어 집합(vocabulary)의 크기 :', total_cnt)\n",
    "print('등장 빈도가 %s번 이하인 희귀 단어의 수: %s'%(threshold - 1, rare_cnt))\n",
    "print('단어 집합에서 희귀 단어를 제외시킬 경우의 단어 집합의 크기 %s'%(total_cnt - rare_cnt))\n",
    "print(\"단어 집합에서 희귀 단어의 비율:\", (rare_cnt / total_cnt)*100)\n",
    "print(\"전체 등장 빈도에서 희귀 단어 등장 빈도 비율:\", (rare_freq / total_freq)*100)"
   ]
  },
  {
   "cell_type": "code",
   "execution_count": 33,
   "id": "48f86aa8",
   "metadata": {},
   "outputs": [
    {
     "name": "stdout",
     "output_type": "stream",
     "text": [
      "input\n",
      "input  [[1, 68, 124, 2736, 4, 4349, 426, 116], [1, 2616, 2304, 34, 18, 39, 1066, 3, 3838, 14, 9260], [1, 15, 67, 252, 87, 83, 1046, 138, 5226], [1, 1090, 5227, 147, 1057, 163, 9, 8552], [1, 90, 13, 397, 3, 604, 12, 7923, 1724, 718, 3, 15]]\n",
      "target\n",
      "decoder  [[68, 124, 2736, 4, 4349, 426, 116, 2], [2616, 2304, 34, 18, 39, 1066, 3, 3838, 14, 9260, 2], [15, 67, 252, 87, 83, 1046, 138, 5226, 2], [1090, 5227, 147, 1057, 163, 9, 8552, 2], [90, 13, 397, 3, 604, 12, 7923, 1724, 718, 3, 15, 2]]\n"
     ]
    }
   ],
   "source": [
    "tar_vocab = 10000 #희귀 단어 제외 후 단어 집합 크기에 맞추어 설정\n",
    "tar_tokenizer = Tokenizer(num_words=tar_vocab) \n",
    "tar_tokenizer.fit_on_texts(decoder_input_train)\n",
    "tar_tokenizer.fit_on_texts(decoder_target_train)\n",
    "\n",
    "# 텍스트 시퀀스를 정수 시퀀스로 변환\n",
    "decoder_input_train = tar_tokenizer.texts_to_sequences(decoder_input_train) \n",
    "decoder_target_train = tar_tokenizer.texts_to_sequences(decoder_target_train)\n",
    "decoder_input_test = tar_tokenizer.texts_to_sequences(decoder_input_test)\n",
    "decoder_target_test = tar_tokenizer.texts_to_sequences(decoder_target_test)\n",
    "\n",
    "# 잘 변환되었는지 확인\n",
    "print('input')\n",
    "print('input ',decoder_input_train[:5])\n",
    "print('target')\n",
    "print('decoder ',decoder_target_train[:5])"
   ]
  },
  {
   "cell_type": "markdown",
   "id": "2695dc2b",
   "metadata": {},
   "source": [
    "##### 주의사항\n",
    "\n",
    "전체 데이터에서 빈도수가 낮은 단어가 삭제되었다는 것은 빈도수가 낮은 단어만으로 구성되었던 샘플들은 이제 빈(empty) 샘플이 되었을 가능성 有\n",
    "\n",
    "##### 요약문에서 길이가 0이 된 샘플들의 인덱스를 받아오기\n",
    "\n",
    "요약문인 decoder_input에는 sostoken, decoder_target에는 eostoken이 추가된 상태이고, 이 두 토큰은 모든 샘플에서 등장하므로 빈도수가 샘플 수와 동일하게 매우 높으므로 단어 집합 제한에도 삭제 X. \n",
    "\n",
    "\n",
    "그래서 이제 길이가 0이 된 요약문의 실제 길이는 1로 나온다. 길이 0이 된 decoder_input에는 sostoken, decoder_target에는 eostoken만 남아 있기 때문\n",
    "\n",
    "\n",
    "#### 훈련데이터, 평가데이터에 대해 요약문의 길이가 1인 경우의 인덱스 각각 drop_train과 drop_test에 라는 변수에 저장 - 해당 샘플은 삭제 예정"
   ]
  },
  {
   "cell_type": "code",
   "execution_count": 34,
   "id": "7d62a000",
   "metadata": {
    "scrolled": true
   },
   "outputs": [
    {
     "name": "stdout",
     "output_type": "stream",
     "text": [
      "삭제할 훈련 데이터의 개수 : 0\n",
      "삭제할 테스트 데이터의 개수 : 0\n",
      "훈련 데이터의 개수 : 74125\n",
      "훈련 레이블의 개수 : 74125\n",
      "테스트 데이터의 개수 : 18531\n",
      "테스트 레이블의 개수 : 18531\n"
     ]
    }
   ],
   "source": [
    "drop_train = [index for index, sentence in enumerate(decoder_input_train) if len(sentence) == 1]\n",
    "drop_test = [index for index, sentence in enumerate(decoder_input_test) if len(sentence) == 1]\n",
    "\n",
    "print('삭제할 훈련 데이터의 개수 :', len(drop_train))\n",
    "print('삭제할 테스트 데이터의 개수 :', len(drop_test))\n",
    "\n",
    "#트레인 셋 길이 1인 샘플삭제\n",
    "encoder_input_train = [sentence for index, sentence in enumerate(encoder_input_train) if index not in drop_train]\n",
    "decoder_input_train = [sentence for index, sentence in enumerate(decoder_input_train) if index not in drop_train]\n",
    "decoder_target_train = [sentence for index, sentence in enumerate(decoder_target_train) if index not in drop_train]\n",
    "\n",
    "#타겟 셋 길이 1인 샘플삭제\n",
    "encoder_input_test = [sentence for index, sentence in enumerate(encoder_input_test) if index not in drop_test]\n",
    "decoder_input_test = [sentence for index, sentence in enumerate(decoder_input_test) if index not in drop_test]\n",
    "decoder_target_test = [sentence for index, sentence in enumerate(decoder_target_test) if index not in drop_test]\n",
    "\n",
    "print('훈련 데이터의 개수 :', len(encoder_input_train))\n",
    "print('훈련 레이블의 개수 :', len(decoder_input_train))\n",
    "print('테스트 데이터의 개수 :', len(encoder_input_test))\n",
    "print('테스트 레이블의 개수 :', len(decoder_input_test))"
   ]
  },
  {
   "cell_type": "markdown",
   "id": "5410a255",
   "metadata": {},
   "source": [
    "길이가 1인 경우의 데이터 존재 X"
   ]
  },
  {
   "cell_type": "markdown",
   "id": "c5422aed",
   "metadata": {},
   "source": [
    "### Padding\n",
    "서로 다른 길이의 샘플들을 병렬 처리하기 위해 같은 길이로 맞춰주는 패딩 작업 실시. \n",
    "\n",
    "아까 정해두었던 최대 길이로 패딩. text_max_len = 45, summary_max_len = 11\n",
    "\n",
    "최대 길이보다 짧은 데이터들은 뒤의 공간에 숫자 0을 넣어 최대 길이로 길이 맞추기"
   ]
  },
  {
   "cell_type": "code",
   "execution_count": 35,
   "id": "e3988934",
   "metadata": {},
   "outputs": [
    {
     "name": "stdout",
     "output_type": "stream",
     "text": [
      "=3\n"
     ]
    }
   ],
   "source": [
    "#인코더 트레인, 테스트셋\n",
    "encoder_input_train = pad_sequences(encoder_input_train, maxlen=text_max_len, padding='post')\n",
    "encoder_input_test = pad_sequences(encoder_input_test, maxlen=text_max_len, padding='post')\n",
    "\n",
    "#디코더 트레인셋 - 인풋과 타겟\n",
    "decoder_input_train = pad_sequences(decoder_input_train, maxlen=summary_max_len, padding='post')\n",
    "decoder_target_train = pad_sequences(decoder_target_train, maxlen=summary_max_len, padding='post')\n",
    "\n",
    "#디코더 테스트셋 - 인풋과 타겟\n",
    "decoder_input_test = pad_sequences(decoder_input_test, maxlen=summary_max_len, padding='post')\n",
    "decoder_target_test = pad_sequences(decoder_target_test, maxlen=summary_max_len, padding='post')\n",
    "print('=3')"
   ]
  },
  {
   "cell_type": "markdown",
   "id": "a5871ed8",
   "metadata": {},
   "source": [
    "### 전처리 완료!"
   ]
  },
  {
   "cell_type": "markdown",
   "id": "ae98a18d",
   "metadata": {},
   "source": [
    "## 모델 설계하기\n",
    "\n",
    "함수형 API를 이용해서 인코더를 설계\n",
    "\n",
    "- 임베딩 벡터 차원 = 128\n",
    "\n",
    "- hidden state의 크기 = 256 ( LSTM에서 얼만큼의 수용력(capacity)를 가질지를 정하는 파라미터)\n",
    "\n",
    "- 인코더의 LSTM은 총 3개의 층으로 구성해서 모델의 복잡도를 높임. hidden state의 크기를 늘리는 것이 LSTM 층 1개의 용량을 늘린다면, 3개의 층을 사용하는 것은 모델의 용량을 늘림. \n",
    "\n",
    "- 3개의 층을 지나서 인코더로부터 나온 출력 벡터는 디코더로 전달\n",
    "\n",
    "#### recurrent dropout 이용\n",
    "\n",
    "drop out?\n",
    "- 레이어의 weight를 랜덤으로 생략하여 모델의 과적합(overfitting)을 방지\n",
    "\n",
    "\n",
    "recurrent dropout?\n",
    "- dropout을 레이어가 아닌 time step마다 해주는 방식\n",
    "- 즉 time step의 입력을 랜덤으로 생략. regularization을 해주는 효과\n",
    "- 과적합 방지"
   ]
  },
  {
   "cell_type": "code",
   "execution_count": 36,
   "id": "bbfca262",
   "metadata": {
    "scrolled": true
   },
   "outputs": [
    {
     "name": "stdout",
     "output_type": "stream",
     "text": [
      "WARNING:tensorflow:Layer lstm will not use cuDNN kernels since it doesn't meet the criteria. It will use a generic GPU kernel as fallback when running on GPU.\n",
      "WARNING:tensorflow:Layer lstm_1 will not use cuDNN kernels since it doesn't meet the criteria. It will use a generic GPU kernel as fallback when running on GPU.\n",
      "WARNING:tensorflow:Layer lstm_2 will not use cuDNN kernels since it doesn't meet the criteria. It will use a generic GPU kernel as fallback when running on GPU.\n"
     ]
    }
   ],
   "source": [
    "from tensorflow.keras.layers import Input, LSTM, Embedding, Dense, Concatenate, TimeDistributed\n",
    "from tensorflow.keras.models import Model\n",
    "from tensorflow.keras.callbacks import EarlyStopping, ModelCheckpoint\n",
    "\n",
    "\n",
    "# 인코더 설계 시작\n",
    "embedding_dim = 128\n",
    "hidden_size = 256\n",
    "\n",
    "# 인코더\n",
    "encoder_inputs = Input(shape=(text_max_len,))\n",
    "\n",
    "# 인코더의 임베딩 층\n",
    "enc_emb = Embedding(src_vocab, embedding_dim)(encoder_inputs)\n",
    "\n",
    "# 인코더의 LSTM 1\n",
    "encoder_lstm1 = LSTM(hidden_size, return_sequences=True, return_state=True ,dropout = 0.4, recurrent_dropout = 0.4)\n",
    "encoder_output1, state_h1, state_c1 = encoder_lstm1(enc_emb)\n",
    "\n",
    "# 인코더의 LSTM 2\n",
    "encoder_lstm2 = LSTM(hidden_size, return_sequences=True, return_state=True, dropout=0.4, recurrent_dropout=0.4)\n",
    "encoder_output2, state_h2, state_c2 = encoder_lstm2(encoder_output1)\n",
    "\n",
    "# 인코더의 LSTM 3\n",
    "encoder_lstm3 = LSTM(hidden_size, return_state=True, return_sequences=True, dropout=0.4, recurrent_dropout=0.4)\n",
    "encoder_outputs, state_h, state_c= encoder_lstm3(encoder_output2)"
   ]
  },
  {
   "cell_type": "markdown",
   "id": "a0bd89e0",
   "metadata": {},
   "source": [
    "디코더 설계\n",
    "\n",
    "디코더의 임베딩 층과 LSTM을 설계하는 것은 인코더와 거의 동일. 하지만 LSTM의 입력을 정의할 때, initial_state의 인자값으로 인코더의 hidden state와 cell state의 값을 넣어야 함"
   ]
  },
  {
   "cell_type": "code",
   "execution_count": 37,
   "id": "a5e19f36",
   "metadata": {},
   "outputs": [
    {
     "name": "stdout",
     "output_type": "stream",
     "text": [
      "WARNING:tensorflow:Layer lstm_3 will not use cuDNN kernels since it doesn't meet the criteria. It will use a generic GPU kernel as fallback when running on GPU.\n"
     ]
    }
   ],
   "source": [
    "# 디코더 설계\n",
    "decoder_inputs = Input(shape=(None,))\n",
    "\n",
    "# 디코더의 임베딩 층\n",
    "dec_emb_layer = Embedding(tar_vocab, embedding_dim)\n",
    "dec_emb = dec_emb_layer(decoder_inputs)\n",
    "\n",
    "# 디코더의 LSTM\n",
    "decoder_lstm = LSTM(hidden_size, return_sequences=True, return_state=True, dropout=0.4, recurrent_dropout=0.2)\n",
    "decoder_outputs, _, _ = decoder_lstm(dec_emb, initial_state=[state_h, state_c])"
   ]
  },
  {
   "cell_type": "code",
   "execution_count": 38,
   "id": "459ebbc7",
   "metadata": {
    "scrolled": true
   },
   "outputs": [
    {
     "name": "stdout",
     "output_type": "stream",
     "text": [
      "Model: \"model\"\n",
      "__________________________________________________________________________________________________\n",
      "Layer (type)                    Output Shape         Param #     Connected to                     \n",
      "==================================================================================================\n",
      "input_1 (InputLayer)            [(None, 45)]         0                                            \n",
      "__________________________________________________________________________________________________\n",
      "embedding (Embedding)           (None, 45, 128)      2944000     input_1[0][0]                    \n",
      "__________________________________________________________________________________________________\n",
      "lstm (LSTM)                     [(None, 45, 256), (N 394240      embedding[0][0]                  \n",
      "__________________________________________________________________________________________________\n",
      "input_2 (InputLayer)            [(None, None)]       0                                            \n",
      "__________________________________________________________________________________________________\n",
      "lstm_1 (LSTM)                   [(None, 45, 256), (N 525312      lstm[0][0]                       \n",
      "__________________________________________________________________________________________________\n",
      "embedding_1 (Embedding)         (None, None, 128)    1280000     input_2[0][0]                    \n",
      "__________________________________________________________________________________________________\n",
      "lstm_2 (LSTM)                   [(None, 45, 256), (N 525312      lstm_1[0][0]                     \n",
      "__________________________________________________________________________________________________\n",
      "lstm_3 (LSTM)                   [(None, None, 256),  394240      embedding_1[0][0]                \n",
      "                                                                 lstm_2[0][1]                     \n",
      "                                                                 lstm_2[0][2]                     \n",
      "__________________________________________________________________________________________________\n",
      "dense (Dense)                   (None, None, 10000)  2570000     lstm_3[0][0]                     \n",
      "==================================================================================================\n",
      "Total params: 8,633,104\n",
      "Trainable params: 8,633,104\n",
      "Non-trainable params: 0\n",
      "__________________________________________________________________________________________________\n"
     ]
    }
   ],
   "source": [
    "# 디코더의 출력층\n",
    "decoder_softmax_layer = Dense(tar_vocab, activation='softmax')\n",
    "decoder_softmax_outputs = decoder_softmax_layer(decoder_outputs) \n",
    "\n",
    "# 모델 정의\n",
    "model = Model([encoder_inputs, decoder_inputs], decoder_softmax_outputs)\n",
    "model.summary()"
   ]
  },
  {
   "cell_type": "markdown",
   "id": "dae16a63",
   "metadata": {},
   "source": [
    "디코더의 출력층에서는 Summary의 단어장인 tar_vocab의 수많은 선택지 중 하나의 단어를 선택하는 다중 클래스 분류 문제를 풀어야 함. 그렇기 때문에 Dense의 인자로 tar_vocab을 주고, 활성화 함수로 소프트맥스 함수를 사용"
   ]
  },
  {
   "cell_type": "markdown",
   "id": "32859d94",
   "metadata": {},
   "source": [
    "## 3. 어텐션 메커니즘으로 성능 향상시키기\n",
    "TensorFlow에 이미 구현된 어텐션 함수를 가져와서 디코더의 출력층에 결합\n",
    "\n",
    "\n",
    "<Bahdanau 스타일 어텐션>"
   ]
  },
  {
   "cell_type": "code",
   "execution_count": 39,
   "id": "3ad4a411",
   "metadata": {
    "scrolled": true
   },
   "outputs": [
    {
     "name": "stdout",
     "output_type": "stream",
     "text": [
      "Model: \"model_1\"\n",
      "__________________________________________________________________________________________________\n",
      "Layer (type)                    Output Shape         Param #     Connected to                     \n",
      "==================================================================================================\n",
      "input_1 (InputLayer)            [(None, 45)]         0                                            \n",
      "__________________________________________________________________________________________________\n",
      "embedding (Embedding)           (None, 45, 128)      2944000     input_1[0][0]                    \n",
      "__________________________________________________________________________________________________\n",
      "lstm (LSTM)                     [(None, 45, 256), (N 394240      embedding[0][0]                  \n",
      "__________________________________________________________________________________________________\n",
      "input_2 (InputLayer)            [(None, None)]       0                                            \n",
      "__________________________________________________________________________________________________\n",
      "lstm_1 (LSTM)                   [(None, 45, 256), (N 525312      lstm[0][0]                       \n",
      "__________________________________________________________________________________________________\n",
      "embedding_1 (Embedding)         (None, None, 128)    1280000     input_2[0][0]                    \n",
      "__________________________________________________________________________________________________\n",
      "lstm_2 (LSTM)                   [(None, 45, 256), (N 525312      lstm_1[0][0]                     \n",
      "__________________________________________________________________________________________________\n",
      "lstm_3 (LSTM)                   [(None, None, 256),  394240      embedding_1[0][0]                \n",
      "                                                                 lstm_2[0][1]                     \n",
      "                                                                 lstm_2[0][2]                     \n",
      "__________________________________________________________________________________________________\n",
      "attention_layer (AdditiveAttent (None, None, 256)    256         lstm_3[0][0]                     \n",
      "                                                                 lstm_2[0][0]                     \n",
      "__________________________________________________________________________________________________\n",
      "concat_layer (Concatenate)      (None, None, 512)    0           lstm_3[0][0]                     \n",
      "                                                                 attention_layer[0][0]            \n",
      "__________________________________________________________________________________________________\n",
      "dense_1 (Dense)                 (None, None, 10000)  5130000     concat_layer[0][0]               \n",
      "==================================================================================================\n",
      "Total params: 11,193,360\n",
      "Trainable params: 11,193,360\n",
      "Non-trainable params: 0\n",
      "__________________________________________________________________________________________________\n"
     ]
    }
   ],
   "source": [
    "from tensorflow.keras.layers import AdditiveAttention\n",
    "\n",
    "# 어텐션 층(어텐션 함수)\n",
    "attn_layer = AdditiveAttention(name='attention_layer')\n",
    "\n",
    "# 인코더와 디코더의 모든 time step의 hidden state를 어텐션 층에 전달하고 결과를 리턴\n",
    "attn_out = attn_layer([decoder_outputs, encoder_outputs])\n",
    "\n",
    "\n",
    "# 어텐션의 결과와 디코더의 hidden state들을 연결\n",
    "decoder_concat_input = Concatenate(axis=-1, name='concat_layer')([decoder_outputs, attn_out])\n",
    "\n",
    "# 디코더의 출력층\n",
    "decoder_softmax_layer = Dense(tar_vocab, activation='softmax')\n",
    "decoder_softmax_outputs = decoder_softmax_layer(decoder_concat_input) #여기 안에다가 만든 연결점을 넣음\n",
    "\n",
    "# 모델 정의\n",
    "model = Model([encoder_inputs, decoder_inputs], decoder_softmax_outputs)\n",
    "model.summary()"
   ]
  },
  {
   "cell_type": "markdown",
   "id": "be374b58",
   "metadata": {},
   "source": [
    "## 모델 훈련하기\n",
    "\n",
    "컴파일 진행\n",
    "\n",
    "##### 함수 EarlyStopping - 조기 종료 함수 : 특정 조건 충족시 훈련 종료\n",
    "\n",
    "\n",
    "#### es = EarlyStopping(monitor='val_loss', patience=2, verbose=1)\n",
    "\n",
    "\n",
    "위 코드에서는 val_loss(검증 데이터의 손실)을 관찰하다가, 검증 데이터의 손실이 줄어들지 않고 증가하는 현상이 2회(patience=2) 관측되면 학습을 멈추도록 설정\n",
    "\n",
    "-> EarlyStopping이 작동한다면 epochs가 아무리 크게 설정되어 있어도 모델 훈련을 최적점에서 멈출 수 있다."
   ]
  },
  {
   "cell_type": "code",
   "execution_count": 40,
   "id": "6b1a64b3",
   "metadata": {},
   "outputs": [
    {
     "name": "stdout",
     "output_type": "stream",
     "text": [
      "Epoch 1/50\n",
      "290/290 [==============================] - 194s 618ms/step - loss: 6.0195 - val_loss: 5.5854\n",
      "Epoch 2/50\n",
      "290/290 [==============================] - 178s 613ms/step - loss: 5.4073 - val_loss: 5.1873\n",
      "Epoch 3/50\n",
      "290/290 [==============================] - 177s 612ms/step - loss: 5.0596 - val_loss: 4.9105\n",
      "Epoch 4/50\n",
      "290/290 [==============================] - 178s 614ms/step - loss: 4.7802 - val_loss: 4.7033\n",
      "Epoch 5/50\n",
      "290/290 [==============================] - 178s 613ms/step - loss: 4.5620 - val_loss: 4.5567\n",
      "Epoch 6/50\n",
      "290/290 [==============================] - 178s 614ms/step - loss: 4.3816 - val_loss: 4.4360\n",
      "Epoch 7/50\n",
      "290/290 [==============================] - 177s 612ms/step - loss: 4.2279 - val_loss: 4.3451\n",
      "Epoch 8/50\n",
      "290/290 [==============================] - 178s 614ms/step - loss: 4.0938 - val_loss: 4.2670\n",
      "Epoch 9/50\n",
      "290/290 [==============================] - 177s 609ms/step - loss: 3.9741 - val_loss: 4.2144\n",
      "Epoch 10/50\n",
      "290/290 [==============================] - 178s 613ms/step - loss: 3.8645 - val_loss: 4.1456\n",
      "Epoch 11/50\n",
      "290/290 [==============================] - 179s 617ms/step - loss: 3.7698 - val_loss: 4.1035\n",
      "Epoch 12/50\n",
      "290/290 [==============================] - 178s 615ms/step - loss: 3.6848 - val_loss: 4.0662\n",
      "Epoch 13/50\n",
      "290/290 [==============================] - 178s 615ms/step - loss: 3.6061 - val_loss: 4.0334\n",
      "Epoch 14/50\n",
      "290/290 [==============================] - 178s 614ms/step - loss: 3.5328 - val_loss: 4.0036\n",
      "Epoch 15/50\n",
      "290/290 [==============================] - 178s 613ms/step - loss: 3.4651 - val_loss: 3.9808\n",
      "Epoch 16/50\n",
      "290/290 [==============================] - 179s 618ms/step - loss: 3.4063 - val_loss: 3.9611\n",
      "Epoch 17/50\n",
      "290/290 [==============================] - 178s 614ms/step - loss: 3.3486 - val_loss: 3.9432\n",
      "Epoch 18/50\n",
      "290/290 [==============================] - 178s 616ms/step - loss: 3.2923 - val_loss: 3.9326\n",
      "Epoch 19/50\n",
      "290/290 [==============================] - 177s 611ms/step - loss: 3.2411 - val_loss: 3.9182\n",
      "Epoch 20/50\n",
      "290/290 [==============================] - 178s 615ms/step - loss: 3.1925 - val_loss: 3.9122\n",
      "Epoch 21/50\n",
      "290/290 [==============================] - 179s 616ms/step - loss: 3.1446 - val_loss: 3.8963\n",
      "Epoch 22/50\n",
      "290/290 [==============================] - 178s 615ms/step - loss: 3.0979 - val_loss: 3.8937\n",
      "Epoch 23/50\n",
      "290/290 [==============================] - 179s 618ms/step - loss: 3.0564 - val_loss: 3.8844\n",
      "Epoch 24/50\n",
      "290/290 [==============================] - 177s 611ms/step - loss: 3.0208 - val_loss: 3.8825\n",
      "Epoch 25/50\n",
      "290/290 [==============================] - 177s 611ms/step - loss: 2.9855 - val_loss: 3.8779\n",
      "Epoch 26/50\n",
      "290/290 [==============================] - 178s 613ms/step - loss: 2.9504 - val_loss: 3.8903\n",
      "Epoch 27/50\n",
      "290/290 [==============================] - 177s 611ms/step - loss: 2.9137 - val_loss: 3.8706\n",
      "Epoch 28/50\n",
      "290/290 [==============================] - 178s 613ms/step - loss: 2.8828 - val_loss: 3.8753\n",
      "Epoch 29/50\n",
      "290/290 [==============================] - 177s 612ms/step - loss: 2.8506 - val_loss: 3.8707\n",
      "Epoch 00029: early stopping\n"
     ]
    }
   ],
   "source": [
    "model.compile(optimizer='rmsprop', loss='sparse_categorical_crossentropy')\n",
    "es = EarlyStopping(monitor='val_loss', patience=2, verbose=1)\n",
    "history = model.fit(x=[encoder_input_train, decoder_input_train], y=decoder_target_train, \\\n",
    "          validation_data=([encoder_input_test, decoder_input_test], decoder_target_test), \\\n",
    "          batch_size=256, callbacks=[es], epochs=50)"
   ]
  },
  {
   "cell_type": "code",
   "execution_count": 41,
   "id": "21751f2b",
   "metadata": {
    "scrolled": true
   },
   "outputs": [
    {
     "name": "stdout",
     "output_type": "stream",
     "text": [
      "dict_keys(['loss', 'val_loss'])\n"
     ]
    },
    {
     "data": {
      "image/png": "[encoded data removed]",
      "text/plain": [
       "<Figure size 432x288 with 1 Axes>"
      ]
     },
     "metadata": {
      "needs_background": "light"
     },
     "output_type": "display_data"
    }
   ],
   "source": [
    "history_dict = history.history\n",
    "print(history_dict.keys()) # epoch에 따른 그래프를 그려볼 수 있는 항목들\n",
    "\n",
    "import matplotlib.pyplot as plt\n",
    "\n",
    "\n",
    "loss = history_dict['loss']\n",
    "val_loss = history_dict['val_loss']\n",
    "\n",
    "epochs = range(1, len(loss) + 1)\n",
    "\n",
    "#Loss 그래프 그리기\n",
    "plt.plot(epochs, loss, 'bo', label='Training loss')\n",
    "plt.plot(epochs, val_loss, 'b', label='Validation loss')\n",
    "plt.title('Training and validation loss')\n",
    "plt.xlabel('Epochs')\n",
    "plt.ylabel('Loss')\n",
    "plt.legend()\n",
    "plt.show()\n"
   ]
  },
  {
   "cell_type": "markdown",
   "id": "a2871688",
   "metadata": {},
   "source": [
    "30에폭 정도 지나가니 validation loss가 일정치 3.87 정도로 수렴했다.\n",
    "그 이상의 에폭을 진행하니 다시 loss가 증가해서,  EarlyStopping가 작동해 멈췄다."
   ]
  },
  {
   "cell_type": "markdown",
   "id": "0ba6bc7b",
   "metadata": {},
   "source": [
    "## 인퍼런스 모델 구현하기 - 실제 동작용"
   ]
  },
  {
   "cell_type": "markdown",
   "id": "e6dc92d8",
   "metadata": {},
   "source": [
    "테스트 단계에서는 정수 인덱스 행렬로 존재하던 텍스트 데이터를 실제 데이터로 복원해야 하므로, 필요한 3개의 사전을 아래와 같이 미리 준비"
   ]
  },
  {
   "cell_type": "code",
   "execution_count": 42,
   "id": "258c9d5e",
   "metadata": {},
   "outputs": [
    {
     "name": "stdout",
     "output_type": "stream",
     "text": [
      "=3\n"
     ]
    }
   ],
   "source": [
    "src_index_to_word = src_tokenizer.index_word # 원문 단어 집합에서 정수 -> 단어를 얻음\n",
    "tar_word_to_index = tar_tokenizer.word_index # 요약 단어 집합에서 단어 -> 정수를 얻음\n",
    "tar_index_to_word = tar_tokenizer.index_word # 요약 단어 집합에서 정수 -> 단어를 얻음\n",
    "\n",
    "print('=3')"
   ]
  },
  {
   "cell_type": "markdown",
   "id": "f00b7662",
   "metadata": {},
   "source": [
    "#### seq2seq는 훈련할 때와 실제 동작할 때(인퍼런스 단계)의 방식이 다르므로 그에 맞게 모델 설계를 별개로 진행해야 한다.\n",
    "\n",
    "훈련 단계에서는 디코더의 입력부에 정답이 되는 문장 전체를 한꺼번에 넣고 디코더의 출력과 한 번에 비교할 수 있으므로, 인코더와 디코더를 엮은 통짜 모델 제작\n",
    "\n",
    "그러나 정답 문장이 없는 인퍼런스 단계에서는 만들어야 할 문장의 길이만큼 디코더가 반복 구조로 동작해야 하기 때문에 부득이하게 인퍼런스를 위한 모델 설계를 별도로 해주어야 함. 이때는 인코더 모델과 디코더 모델을 분리해서 설계"
   ]
  },
  {
   "cell_type": "markdown",
   "id": "233c3c71",
   "metadata": {},
   "source": [
    "#### 인코더 설계"
   ]
  },
  {
   "cell_type": "code",
   "execution_count": 43,
   "id": "e21b872d",
   "metadata": {},
   "outputs": [
    {
     "name": "stdout",
     "output_type": "stream",
     "text": [
      "=3\n"
     ]
    }
   ],
   "source": [
    "# 인코더 설계\n",
    "encoder_model = Model(inputs=encoder_inputs, outputs=[encoder_outputs, state_h, state_c])\n",
    "\n",
    "# 이전 시점의 상태들을 저장하는 텐서\n",
    "decoder_state_input_h = Input(shape=(hidden_size,))\n",
    "decoder_state_input_c = Input(shape=(hidden_size,))\n",
    "\n",
    "dec_emb2 = dec_emb_layer(decoder_inputs)\n",
    "\n",
    "# 문장의 다음 단어를 예측하기 위해서 초기 상태(initial_state)를 이전 시점의 상태로 사용. 이는 뒤의 함수 decode_sequence()에 구현\n",
    "# 훈련 과정에서와 달리 LSTM의 리턴하는 은닉 상태와 셀 상태인 state_h와 state_c를 버리지 않음.\n",
    "decoder_outputs2, state_h2, state_c2 = decoder_lstm(dec_emb2, initial_state=[decoder_state_input_h, decoder_state_input_c])\n",
    "\n",
    "print('=3')"
   ]
  },
  {
   "cell_type": "markdown",
   "id": "97656a61",
   "metadata": {},
   "source": [
    "#### 어텐션 메커니즘 이용하는 디코더 설계"
   ]
  },
  {
   "cell_type": "code",
   "execution_count": 44,
   "id": "17956cb9",
   "metadata": {},
   "outputs": [
    {
     "name": "stdout",
     "output_type": "stream",
     "text": [
      "=3\n"
     ]
    }
   ],
   "source": [
    "# 어텐션 함수\n",
    "decoder_hidden_state_input = Input(shape=(text_max_len, hidden_size))\n",
    "attn_out_inf = attn_layer([decoder_outputs2, decoder_hidden_state_input])\n",
    "decoder_inf_concat = Concatenate(axis=-1, name='concat')([decoder_outputs2, attn_out_inf])\n",
    "\n",
    "# 디코더의 출력층\n",
    "decoder_outputs2 = decoder_softmax_layer(decoder_inf_concat) \n",
    "\n",
    "# 최종 디코더 모델\n",
    "decoder_model = Model(\n",
    "    [decoder_inputs] + [decoder_hidden_state_input,decoder_state_input_h, decoder_state_input_c],\n",
    "    [decoder_outputs2] + [state_h2, state_c2])\n",
    "\n",
    "print('=3')"
   ]
  },
  {
   "cell_type": "markdown",
   "id": "2e4cdee7",
   "metadata": {},
   "source": [
    "#### 인퍼런스 단계에서 단어 시퀸스를 완성하는 함수 설계"
   ]
  },
  {
   "cell_type": "code",
   "execution_count": 45,
   "id": "41977f6c",
   "metadata": {},
   "outputs": [
    {
     "name": "stdout",
     "output_type": "stream",
     "text": [
      "=3\n"
     ]
    }
   ],
   "source": [
    "def decode_sequence(input_seq):\n",
    "    # 입력으로부터 인코더의 상태를 얻음\n",
    "    e_out, e_h, e_c = encoder_model.predict(input_seq)\n",
    "\n",
    "     # <SOS>에 해당하는 토큰 생성\n",
    "    target_seq = np.zeros((1,1))\n",
    "    target_seq[0, 0] = tar_word_to_index['sostoken']\n",
    "\n",
    "    stop_condition = False\n",
    "    decoded_sentence = ''\n",
    "    while not stop_condition: # stop_condition이 True가 될 때까지 루프 반복\n",
    "\n",
    "        output_tokens, h, c = decoder_model.predict([target_seq] + [e_out, e_h, e_c])\n",
    "        sampled_token_index = np.argmax(output_tokens[0, -1, :])\n",
    "        sampled_token = tar_index_to_word[sampled_token_index]\n",
    "\n",
    "        if (sampled_token!='eostoken'):\n",
    "            decoded_sentence += ' '+sampled_token\n",
    "\n",
    "        #  <eos>에 도달하거나 최대 길이를 넘으면 중단.\n",
    "        if (sampled_token == 'eostoken'  or len(decoded_sentence.split()) >= (summary_max_len-1)):\n",
    "            stop_condition = True\n",
    "\n",
    "        # 길이가 1인 타겟 시퀀스를 업데이트\n",
    "        target_seq = np.zeros((1,1))\n",
    "        target_seq[0, 0] = sampled_token_index\n",
    "\n",
    "        # 상태를 업데이트 합니다.\n",
    "        e_h, e_c = h, c\n",
    "\n",
    "    return decoded_sentence\n",
    "print('=3')"
   ]
  },
  {
   "cell_type": "markdown",
   "id": "7917dcb1",
   "metadata": {},
   "source": [
    "## 모델 테스트하기\n",
    "\n",
    "src_index_to_word = src_tokenizer.index_word # 원문 단어 집합에서 정수 -> 단어를 얻음\n",
    "tar_word_to_index = tar_tokenizer.word_index # 요약 단어 집합에서 단어 -> 정수를 얻음\n",
    "tar_index_to_word = tar_tokenizer.index_word # 요약 단어 집합에서 정수 -> 단어를 얻음\n",
    "\n",
    "\n",
    "### 정수 시퀸스를 텍스트 시퀸스로 변환하는 함수 만들기\n",
    "\n",
    "\n",
    "- Text의 정수 시퀀스에서는 패딩을 위해 사용되는 숫자 0을 제외 \n",
    "- Summary의 정수 시퀀스에서는 패딩을 위해 사용되는 숫자 0, 시작 토큰의 인덱스, 종료 토큰의 인덱스를 출력에서 제외"
   ]
  },
  {
   "cell_type": "code",
   "execution_count": 46,
   "id": "8b2a2632",
   "metadata": {},
   "outputs": [
    {
     "name": "stdout",
     "output_type": "stream",
     "text": [
      "=3\n"
     ]
    }
   ],
   "source": [
    "# 원문의 정수 시퀀스를 텍스트 시퀀스로 변환\n",
    "def seq2text(input_seq):\n",
    "    temp=''\n",
    "    for i in input_seq:\n",
    "        if (i!=0):\n",
    "            temp = temp + src_index_to_word[i]+' '\n",
    "    return temp\n",
    "\n",
    "# 요약문의 정수 시퀀스를 텍스트 시퀀스로 변환\n",
    "def seq2summary(input_seq):\n",
    "    temp=''\n",
    "    for i in input_seq:\n",
    "        if ((i!=0 and i!=tar_word_to_index['sostoken']) and i!=tar_word_to_index['eostoken']):\n",
    "            temp = temp + tar_index_to_word[i] + ' '\n",
    "    return temp\n",
    "\n",
    "print('=3')"
   ]
  },
  {
   "cell_type": "markdown",
   "id": "d0561152",
   "metadata": {},
   "source": [
    "## 4. 실제 결과와 요약문 비교하기(추상적 요약)\n",
    "테스트 데이터 약 50개의 샘플에 대해서 실제 요약과 예측된 요약을 비교"
   ]
  },
  {
   "cell_type": "code",
   "execution_count": 47,
   "id": "e24ac733",
   "metadata": {},
   "outputs": [
    {
     "name": "stdout",
     "output_type": "stream",
     "text": [
      "원문 : anil kapoor play mughal emperor shah jahan karan johar upcoming directorial takht per reports kareena reportedly portray shah jahan daughter begum ranveer singh vicky kaushal reportedly play shah jahan sons dara aurangzeb respectively earlier johar said film kabhi khushi kabhie gham mughal era \n",
      "실제 요약 : anil kapoor to play shah jahan in johar takht reports \n",
      "예측 요약 :  johar karan johar attend iifa of johar film\n",
      "\n",
      "\n",
      "원문 : twenty four people stranded three hours roller coaster ride froze thursday evening six flags america maryland united states joker roller coaster based batman franchise froze approximately feet air firefighters used hydraulic crane rescue passengers finishing rescue pm \n",
      "실제 요약 : people stranded for three hours mid air on roller coaster \n",
      "예측 요약 :  two passengers fall after boat falls into sea\n",
      "\n",
      "\n",
      "원문 : ramakant brihanmumbai municipal corporation official suspended one day failing evict unauthorised hawkers hawking zone mumbai dadar suspended wednesday residents clicked pictures hawkers business near dadar railway station duty sent authorities \n",
      "실제 요약 : mumbai official suspended for day for not hawkers \n",
      "예측 요약 :  bmc bars bmc from bmc to wear alcohol\n",
      "\n",
      "\n",
      "원문 : french court jailed exiled russian artist setting fire facade bank france building received one year jail term two years suspended allowed walk free served months custody said would targeted bank remains symbol occupation paris \n",
      "실제 요약 : russian artist jailed for setting fire to bank of france \n",
      "예측 요약 :  french judge jailed for trying to uk judge\n",
      "\n",
      "\n",
      "원문 : luxury brand dior faced criticism using animated character developed computer generated imagery model latest beauty campaign would someone buy product shown real skin instagram user commented dior post character named created germany \n",
      "실제 요약 : slammed for using animated character in ad campaign \n",
      "예측 요약 :  company makes new york that can find its own shoes\n",
      "\n",
      "\n",
      "원문 : australian paramedics thanked fulfilling terminally ill man desire ice cream final trip hospital wished asked would like eat cannot thank ambulance service enough help compassion given towards us family said \n",
      "실제 요약 : australian fulfil dying man wish for ice cream \n",
      "예측 요약 :  was not allowed to wear weight for the first time\n",
      "\n",
      "\n",
      "원문 : world number one rafael nadal record set winning streak ended friday dropped madrid open quarter final opening set dominic thiem nadal match winning streak clay also halted thiem took second set roger federer return number one spot monday th week career \n",
      "실제 요약 : world no nadal record set winning streak on clay ends \n",
      "예측 요약 :  nadal beats nadal to win longest world longest title\n",
      "\n",
      "\n",
      "원문 : hotel housed building constructed th century opened tel aviv israel hotel undergone major restoration guest rooms well infinity pool also spa turkish jewellery store gym restaurant bar \n",
      "실제 요약 : hotel opens in building that was in th century \n",
      "예측 요약 :  hotel opens in hotel for first time in years\n",
      "\n",
      "\n",
      "원문 : hailing supreme court refusal interfere arrest five activists connection bhima koregaon violence maharashtra cm devendra fadnavis said government stand urban maoists court appreciated government trying curb voices fadnavis added apex court extended activists house arrest four weeks \n",
      "실제 요약 : sc order our stand against urban maoists maha cm \n",
      "예측 요약 :  arrest warrant against police in law on cm probe\n",
      "\n",
      "\n",
      "원문 : anil ambani led reliance communications thursday told supreme court dispute non payment dues swedish firm ericsson would settled days company promised pay crore swedish firm september sought another days payment dues ericsson citing pending spectrum sale \n",
      "실제 요약 : ericsson dues dispute will be in days rcom to sc \n",
      "예측 요약 :  rcom to pay crore to settle insolvency case\n",
      "\n",
      "\n",
      "원문 : motorised wheelchair used late british physicist stephen hawking auctioned phd thesis raised nearly twice amount charity personal belongings hawking put sale including signed copy book brief history time script simpsons episode hawking lent voice \n",
      "실제 요약 : stephen hawking wheelchair sell for over million \n",
      "예측 요약 :  einstein letter on stephen hawking auctioned for lakh\n",
      "\n",
      "\n",
      "원문 : shraddha kapoor arjun kapoor starrer half girlfriend confused forced takes audience granted wrote hindustan times ndtv called film romance irresponsible enough lead many stalker times india wrote film thoda fun largely rated \n",
      "실제 요약 : shraddha arjun starrer half girlfriend hits the theatres \n",
      "예측 요약 :  shraddha kapoor starrer shraddha hits theatres\n",
      "\n",
      "\n",
      "원문 : dating app tinder faced outage wednesday due issue facebook user login permissions social media giant announced would limit third party access user data users used facebook login tinder reported could log back however similar dating apps like bumble affected privacy rules \n",
      "실제 요약 : tinder faces issues after facebook privacy changes \n",
      "예측 요약 :  instagram faces instagram users over users data\n",
      "\n",
      "\n",
      "원문 : man dragged screaming bloodied united airlines plane taking legal action airline lawyers passenger filed emergency request us court requiring carrier preserve video footage evidence relating incident earlier united airlines ceo oscar munoz admitted flight overbooked \n",
      "실제 요약 : passenger dragged from united airlines flight sues carrier \n",
      "예측 요약 :  united airlines employee sues bitcoin for not bitcoin\n",
      "\n",
      "\n",
      "원문 : facebook ceo mark zuckerberg asked british parliamentary committee explain person recent data controversy involving company committee wrote zuckerberg asking account catastrophic failure process earlier revealed data firm cambridge analytica exploited facebook users personal data support donald trump election campaign \n",
      "실제 요약 : mark zuckerberg asked to testify by uk on fb data scandal \n",
      "예측 요약 :  fb ceo zuckerberg calls facebook data privacy policy\n",
      "\n",
      "\n",
      "원문 : filmmaker rohit shetty confirmed directing film stars ranveer singh adding going raw action film rohit said start shooting ranveer actor completes padmavati zoya akhtar upcoming film would ranveer rohit first feature film together \n",
      "실제 요약 : am going to direct ranveer in raw action film rohit \n",
      "예측 요약 :  rohit shetty is the first film rohit shetty\n",
      "\n",
      "\n",
      "원문 : home minister rajnath singh friday said central government file affidavit supreme court regarding decision deporting illegal rohingya immigrants back myanmar september earlier reports suggested government already filed affidavit deporting rohingyas claiming refugees pose threat national security \n",
      "실제 요약 : will file affidavit in sc on rohingyas on sep rajnath \n",
      "예측 요약 :  sc asks states to resolve article on rohingya crisis\n",
      "\n",
      "\n",
      "원문 : delhi cm arvind kejriwal three aap ministers sit protest lieutenant governor anil baijal office since june urging ask ias officers end strike kejriwal accused ias officers working important files responding ministers calls kejriwal aap leaders also marching pm house protest \n",
      "실제 요약 : why is delhi cm kejriwal sitting on dharna at office \n",
      "예측 요약 :  kejriwal meets aap mlas in delhi\n",
      "\n",
      "\n",
      "원문 : srh handed mi second successive defeat ipl registering last ball victory thursday srh slumped within nine balls smashed last ball four complete run chase first instance ipl chasing side last ball th one wicket remaining \n",
      "실제 요약 : srh win last ball thriller to hand mi nd straight defeat \n",
      "예측 요약 :  rcb chase down in ipl after losing runs\n",
      "\n",
      "\n",
      "원문 : india odi vice captain rohit sharma commented spinner kuldeep yadav instagram post yadav responded missing company rohit bhai yadav posted picture london captioned spending quiet day exploring observing life around karo tum bas rohit commented yadav post \n",
      "실제 요약 : missing your company bhai kuldeep replies to rohit comment \n",
      "예측 요약 :  rohit sharma trolls yuvraj singh for calling him\n",
      "\n",
      "\n",
      "원문 : finance minister arun jaitley monday said would appropriate congress chief rahul gandhi asked right question namely killed investigation death sohrabuddin sheikh cbi court acquitted accused sohrabuddin case gandhi tweeted one killed bi sohrabuddin died \n",
      "실제 요약 : rahul should ask who killed sohrabuddin probe jaitley \n",
      "예측 요약 :  jaitley asks jaitley to resign over arun jaitley\n",
      "\n",
      "\n",
      "원문 : american singer john legend performed single isha ambani anand piramal engagement celebration saturday lake como italy john time grammy award winner also oscar engagement attended several celebrities including priyanka chopra fianc nick jonas aamir khan karan johar \n",
      "실제 요약 : john legend performs all of me at isha anand engagement \n"
     ]
    },
    {
     "name": "stdout",
     "output_type": "stream",
     "text": [
      "예측 요약 :  michael jackson marries virat kohli at their wedding\n",
      "\n",
      "\n",
      "원문 : two aeroflot air sued airline allegedly measuring flight attendants removing uk size larger higher paid international flights gender discrimination claim heard moscow court week notably hundreds women working aeroflot claimed discriminated \n",
      "실제 요약 : air claim they were removed from flights over size \n",
      "예측 요약 :  airline bans airline that it is airline\n",
      "\n",
      "\n",
      "원문 : us tuesday began returning asylum seekers mexico sending back migrant central american nation called move response illegal migration crisis faced migrant protection protocols policy us return certain migrants cross country illegally back mexico asylum requests processed \n",
      "실제 요약 : us begins sending back asylum seekers to mexico \n",
      "예측 요약 :  us expels migrants to migrant families\n",
      "\n",
      "\n",
      "원문 : trial case pertaining gangrape murder year old girl kathua stayed till may supreme court meanwhile apex court asked accused respond petition seeking transfer case hearing chandigarh state government however maintains transfer would witnesses \n",
      "실제 요약 : sc stays kathua rape and murder case trial till may \n",
      "예측 요약 :  kathua rape victim convicted in kathua case sc\n",
      "\n",
      "\n",
      "원문 : condemning recent incidents cross border firing jammu kashmir deputy chief minister nirmal singh said killing every innocent pakistan never going succeed added state alert comes jawan killed others injured gunfight militants friday \n",
      "실제 요약 : we are every innocent death deputy cm to pak \n",
      "예측 요약 :  terrorists killed in kashmir rajnath singh\n",
      "\n",
      "\n",
      "원문 : deepika padukone ranveer singh left mumbai today bengaluru hosting first wedding reception november per reports post wedding reception bengaluru returning mumbai second reception take place november third one december according reports \n",
      "실제 요약 : deepika ranveer leave for bengaluru for reception reports \n",
      "예측 요약 :  deepika ranveer mumbai deepika wedding reception\n",
      "\n",
      "\n",
      "원문 : west bengal cm mamata banerjee tuesday highlighted government achievements dealing maoists state far west bengal left wing extremists surrendered includes maoists already enrolled special home guards said apart employment maoists get financial incentives added \n",
      "실제 요약 : mamata her achievements in dealing with maoists \n",
      "예측 요약 :  mamata mamata banerjee is mamata banerjee\n",
      "\n",
      "\n",
      "원문 : delhi daredevils lost opening match ipl season royal challengers bangalore runs despite rishabh pant fighting half century saturday batting first royal challengers bangalore put driven kedar jadhav ball reply pant ball proved insufficient could help delhi daredevils reach target \n",
      "실제 요약 : dd fall short by runs against rcb despite pant fifty \n",
      "예측 요약 :  dd chase down gl chase down gl in ipl\n",
      "\n",
      "\n",
      "원문 : kerala cm pinarayi vijayan tuesday said action initiated police officials accused alleged custodial death year old man ernakulam comes kerala state human rights commission slammed government transferring police officer accused case kerala police academy \n",
      "실제 요약 : action taken against cops in custodial death case kerala cm \n",
      "예측 요약 :  kerala cm seeks death penalty for killing cm vijayan\n",
      "\n",
      "\n",
      "원문 : tihar jail india largest populated prison got first open air look fitness prisoners gym located park inside jail number four fitness equipment currently though assigned prisoners gym reportedly mostly used elderly prisoners facing health problems like arthritis obesity \n",
      "실제 요약 : india largest jail gets its first open air \n",
      "예측 요약 :  prison inmates get jail for years in prison\n",
      "\n",
      "\n",
      "원문 : year old woman accused uttar pradesh bjp mla roshan lal verma son manoj raping getting married younger son vinod also alleged vinod left daughter police closed case roshan staged day long protest shahjahanpur demanding arrest \n",
      "실제 요약 : woman claims mla son raped her married her to nd son \n",
      "예측 요약 :  woman bjp leader son of rape by bjp in up\n",
      "\n",
      "\n",
      "원문 : according reports katrina kaif writing autobiography tentatively titled barbie dreams indian actor barbie doll modelled autobiography reveal details personal life focus childhood katrina also talking bollywood career autobiography \n",
      "실제 요약 : katrina to write autobiography titled barbie dreams reports \n",
      "예측 요약 :  katrina kaif to star in upcoming film katrina report\n",
      "\n",
      "\n",
      "원문 : external affairs minister sushma swaraj said indian national injured kabul suicide attack afghanistan tuesday swaraj tweeted talked indian ambassador kabul informed indians safe islamic state group claimed responsibility attack claimed lives least eight people \n",
      "실제 요약 : no indian injured in kabul suicide bombing sushma swaraj \n",
      "예측 요약 :  india is not suicide sushma swaraj on afghan prez swaraj\n",
      "\n",
      "\n",
      "원문 : jackie chan star sequel amitabh bachchan arjun rampal starrer film per reports story sequel revolves around casino jackie seen casino owner according reports directed anees bazmee sequel also star amitabh arjun arshad warsi anil kapoor \n",
      "실제 요약 : jackie chan to star in sequel of amitabh report \n",
      "예측 요약 :  release date of varun sharma starrer october released\n",
      "\n",
      "\n",
      "원문 : people village bihar district amenities like air conditioners televisions cars none homes toilet according residents superstition building toilet house lead immediate death family member started two incidents occurred \n",
      "실제 요약 : bihar village has tvs cars but no toilets \n",
      "예측 요약 :  up school makes land with trees to save trees\n",
      "\n",
      "\n",
      "원문 : health ministry hiked seats reserved disabled students postgraduate medical courses historic decision ensure disabled candidates offer equal contribution towards india progress union health minister jp nadda said disabilities listed rights persons disabilities act include autism thalassemia \n",
      "실제 요약 : reservation for disabled hiked to in pg medical courses \n",
      "예측 요약 :  bihar govt to give free fee to students\n",
      "\n",
      "\n",
      "원문 : talking match winning run partnership wicketkeeper batsman ms dhoni second odi australia india captain virat kohli said dhoni talks lot batting helps keeps player end keeps saying lot time go match hence bat together well added \n",
      "실제 요약 : ms dhoni talks lot while batting and that helps virat kohli \n",
      "예측 요약 :  dhoni is not going to score runs in odis rohit\n",
      "\n",
      "\n",
      "원문 : three labourers killed one injured fell construction building pune area tuesday labourers working tenth floor building platform working collapsed preliminary police investigation revealed police investigating contractor developer took appropriate safety measures labourers \n",
      "실제 요약 : labourers fall to death from under construction building \n",
      "예측 요약 :  dead as truck falls into bengaluru highway\n",
      "\n",
      "\n",
      "원문 : contest held facebook live participants kiss car longest time attempt win contest started participants monday people stopped kissing car eliminated case one contestant left end hours lucky draw decide winner \n",
      "실제 요약 : people compete to kiss car for longest time to win it \n",
      "예측 요약 :  longest fighter memorial sets guinness record for th time\n",
      "\n",
      "\n",
      "원문 : batsmen angelo mathews dinesh chandimal slammed hundreds sri lanka ended day three delhi test trailing india runs captain chandimal became fastest sri lankan batsman hit test centuries achieving feat th innings ashwin picked three wickets th instance taking three wickets \n",
      "실제 요약 : slam tons as sri lanka end day at \n",
      "예측 요약 :  nz pacer slams india highest test score by runs\n",
      "\n",
      "\n",
      "원문 : supreme court directed uttar pradesh government file vision document protection preservation taj mahal within four weeks also asked state government explain activities around taj zone sought details number trees planted area \n",
      "실제 요약 : sc directs up to file document on of taj mahal \n",
      "예측 요약 :  sc directs govt to taj mahal to taj mahal\n",
      "\n",
      "\n",
      "원문 : us president donald trump daughter ivanka trump misused word otherwise tweet user tweeted otherwise implies like baby users wrote ivanka terrible part otherwise horrific administration feel like family know delete button tweets \n",
      "실제 요약 : twitter mocks ivanka trump for misusing in tweet \n",
      "예측 요약 :  ivanka trump trolled for ivanka trump tweets user\n",
      "\n",
      "\n",
      "원문 : us woman believed world oldest flight attendant recently celebrated years service age nash career first started eastern airlines called american airlines notably pilots must retire age us restriction commercial flight attendants \n",
      "실제 요약 : year old believed to be world oldest flight attendant \n",
      "예측 요약 :  woman who was the first person to be world first\n",
      "\n",
      "\n",
      "원문 : liquor firm diageo said corrected many errors books united spirits acquiring vijay mallya diageo said transparent disclosures regulatory authorities comes paradise papers leak revealed funds billion allegedly diverted using offshore subsidiaries united spirits mallya owned company \n",
      "실제 요약 : united spirits books fixed post takeover from mallya \n"
     ]
    },
    {
     "name": "stdout",
     "output_type": "stream",
     "text": [
      "예측 요약 :  united airlines ceo to probe into united house\n",
      "\n",
      "\n",
      "원문 : samajwadi party decided contest seats upcoming municipal corporation elections delhi hopeful winning least seats party slammed bjp currently rules mcd taking care health sanitation sector also criticised aap taking account poor water power supply \n",
      "실제 요약 : samajwadi party to contest on all seats in mcd polls \n",
      "예측 요약 :  samajwadi party to contest seats in bihar assembly elections\n",
      "\n",
      "\n",
      "원문 : bjp leader rajasthan women commission chief suman sharma wednesday said one cannot even handle jeans protect sisters time every girl used desire man broad chest thick chest hair today broad man seen wear jeans added \n",
      "실제 요약 : how can men in jeans protect sisters bjp leader \n",
      "예측 요약 :  transgender women cannot be beaten up to bjp mla\n",
      "\n",
      "\n",
      "원문 : netherlands brazil based researchers determined amazon river formed million years ago chemical analyses sediments exploration site brazil revealed changes composition around million years ago researchers said represented source shift mountains diagnostic onset amazon river \n",
      "실제 요약 : amazon river was formed million years ago study \n",
      "예측 요약 :  world biggest diamond discovered in\n",
      "\n",
      "\n",
      "원문 : micro blogging site twitter third quarter earnings report revealed monthly active users three years twitter reported extra million users year upto percentage point decline declared growth rate company attributed mistakenly counting users digits app transferred google \n",
      "실제 요약 : twitter admits it number of users for yrs \n",
      "예측 요약 :  twitter users react to million dollar revenue in days\n",
      "\n",
      "\n",
      "원문 : apple offices reportedly raided south korea investigators asked questions technology giant business practices comes ahead iphone launch country raid part probe began south korea investigated company struck unfair contracts local phone networks reports added \n",
      "실제 요약 : apple offices raided in south korea report \n",
      "예측 요약 :  apple asks us to remove iphone from nirav modi report\n",
      "\n",
      "\n"
     ]
    }
   ],
   "source": [
    "for i in range(50, 100):\n",
    "    print(\"원문 :\", seq2text(encoder_input_test[i]))\n",
    "    print(\"실제 요약 :\", seq2summary(decoder_input_test[i]))\n",
    "    print(\"예측 요약 :\", decode_sequence(encoder_input_test[i].reshape(1, text_max_len)))\n",
    "    print(\"\\n\")"
   ]
  },
  {
   "cell_type": "markdown",
   "id": "b38e2d8b",
   "metadata": {},
   "source": [
    "##### 워드 임베딩 + RNN의 합작품\n",
    "\n",
    "많은 결과가 출력이 되는데, 기존의 요약과는 다른 요약을 출력하면서도 원문의 내용을 담고 있는 의미 있는 요약들이 보인다. 심지어 일부 요약의 경우에는 원문에 없던 단어를 사용해서 요약을 하기도 함! \n",
    "\n",
    "##### 성능 개선 방법 \n",
    "\n",
    "- seq2seq와 어텐션의 자체의 조합을 좀 더 좋게 수정\n",
    "- 빔 서치(beam search)\n",
    "- 사전 훈련된 워드 임베딩(pre-trained word embedding)\n",
    "- 인코더 - 디코더 자체의 구조를 새로이 변경한 하는 트랜스포머(Transformer)"
   ]
  },
  {
   "cell_type": "markdown",
   "id": "f2c98643",
   "metadata": {},
   "source": [
    "## 5. 추출적 요약 해보기\n",
    " 이미 본문에 존재하는 단어구, 문장을 뽑아서 요약으로 삼는 요약 방법\n",
    " \n",
    " #### Summa 패키지의 모듈 summarize 이용!"
   ]
  },
  {
   "cell_type": "markdown",
   "id": "e12475c0",
   "metadata": {},
   "source": [
    "#### Summa의 summarize()의 인자로 사용되는 값\n",
    "\n",
    "- text (str) : 요약할 테스트.\n",
    "- ratio (float, optional) – 요약문에서 원본에서 선택되는 문장 비율. 0~1 사이값\n",
    "- words (int or None, optional) – 출력에 포함할 단어 수.\n",
    "- 만약, ratio와 함께 두 파라미터가 모두 제공되는 경우 ratio는 무시한다.\n",
    "- split (bool, optional) – True면 문장 list / False는 조인(join)된 문자열을 반환"
   ]
  },
  {
   "cell_type": "code",
   "execution_count": 67,
   "id": "8838f2cf",
   "metadata": {},
   "outputs": [
    {
     "name": "stdout",
     "output_type": "stream",
     "text": [
      "원문장 :  Saurav Kant, an alumnus of upGrad and IIIT-B's PG Program in Machine learning and Artificial Intelligence, was a Sr Systems Engineer at Infosys with almost 5 years of work experience. The program and upGrad's 360-degree career support helped him transition to a Data Scientist at Tech Mahindra with 90% salary hike. upGrad's Online Power Learning has powered 3 lakh+ careers. \n",
      " 요약문장 : upGrad's Online Power Learning has powered 3 lakh+ careers. \n",
      "\n",
      "\n",
      "\n",
      "\n",
      "원문장 :  Kunal Shah's credit card bill payment platform, CRED, gave users a chance to win free food from Swiggy for one year. Pranav Kaushik, a Delhi techie, bagged this reward after spending 2000 CRED coins. Users get one CRED coin per rupee of bill paid, which can be used to avail rewards from brands like Ixigo, BookMyShow, UberEats, Cult.Fit and more. \n",
      " 요약문장 : Users get one CRED coin per rupee of bill paid, which can be used to avail rewards from brands like Ixigo, BookMyShow, UberEats, Cult.Fit and more. \n",
      "\n",
      "\n",
      "\n",
      "\n",
      "원문장 :  New Zealand defeated India by 8 wickets in the fourth ODI at Hamilton on Thursday to win their first match of the five-match ODI series. India lost an international match under Rohit Sharma's captaincy after 12 consecutive victories dating back to March 2018. The match witnessed India getting all out for 92, their seventh lowest total in ODI cricket history. \n",
      " 요약문장 : The match witnessed India getting all out for 92, their seventh lowest total in ODI cricket history. \n",
      "\n",
      "\n",
      "\n",
      "\n",
      "원문장 :  With Aegon Life iTerm Insurance plan, customers can enjoy tax benefits on your premiums paid and save up to Ã¢ÂÂ¹46,800^ on taxes. The plan provides life cover up to the age of 100 years. Also, customers have options to insure against Critical Illnesses, Disability and Accidental Death Benefit Rider with a life cover up to the age of 80 years. \n",
      " 요약문장 : Also, customers have options to insure against Critical Illnesses, Disability and Accidental Death Benefit Rider with a life cover up to the age of 80 years. \n",
      "\n",
      "\n",
      "\n",
      "\n",
      "원문장 :  Speaking about the sexual harassment allegations against Rajkumar Hirani, Sonam Kapoor said, \"I've known Hirani for many years...What if it's not true, the [#MeToo] movement will get derailed.\" \"In the #MeToo movement, I always believe a woman. But in this case, we need to reserve our judgment,\" she added. Hirani has been accused by an assistant who worked in 'Sanju'. \n",
      " 요약문장 : Speaking about the sexual harassment allegations against Rajkumar Hirani, Sonam Kapoor said, \"I've known Hirani for many years...What if it's not true, the [#MeToo] movement will get derailed.\" \"In the #MeToo movement, I always believe a woman. \n",
      "\n",
      "\n",
      "\n",
      "\n",
      "원문장 :  Pakistani singer Rahat Fateh Ali Khan has denied receiving any notice from the Enforcement Directorate over allegedly smuggling foreign currency out of India. \"It would have been better if the authorities would have served the notice first if any and then publicised this,\" reads a press release issued on behalf of Rahat. The statement further called the allegation \"bizarre\". \n",
      " 요약문장 : Pakistani singer Rahat Fateh Ali Khan has denied receiving any notice from the Enforcement Directorate over allegedly smuggling foreign currency out of India. \n",
      "\n",
      "\n",
      "\n",
      "\n",
      "원문장 :  India recorded their lowest ODI total in New Zealand after getting all out for 92 runs in 30.5 overs in the fourth ODI at Hamilton on Thursday. Seven of India's batsmen were dismissed for single-digit scores, while their number ten batsman Yuzvendra Chahal top-scored with 18*(37). India's previous lowest ODI total in New Zealand was 108. \n",
      " 요약문장 : India's previous lowest ODI total in New Zealand was 108. \n",
      "\n",
      "\n",
      "\n",
      "\n",
      "원문장 :  Weeks after ex-CBI Director Alok Verma told the Department of Personnel and Training to consider him retired, the Home Ministry asked him to join work on the last day of his fixed tenure as Director on Thursday. The ministry directed him to immediately join as DG, Fire Services, the post he was transferred to after his removal as CBI chief. \n",
      " 요약문장 :  \n",
      "\n",
      "\n",
      "\n",
      "\n",
      "원문장 :  Andhra Pradesh CM N Chandrababu Naidu has said, \"When I met then US President Bill Clinton, I addressed him as Mr Clinton, not as 'sir'. (PM Narendra) Modi is my junior in politics...I addressed him as sir 10 times.\" \"I did this...to satisfy his ego in the hope that he will do justice to the state,\" he added. \n",
      " 요약문장 :  \n",
      "\n",
      "\n",
      "\n",
      "\n",
      "원문장 :  Congress candidate Shafia Zubair won the Ramgarh Assembly seat in Rajasthan, by defeating BJP's Sukhwant Singh with a margin of 12,228 votes in the bypoll. With this victory, Congress has taken its total to 100 seats in the 200-member assembly. The election to the Ramgarh seat was delayed due to the death of sitting MLA and BSP candidate Laxman Singh. \n",
      " 요약문장 : Congress candidate Shafia Zubair won the Ramgarh Assembly seat in Rajasthan, by defeating BJP's Sukhwant Singh with a margin of 12,228 votes in the bypoll. \n",
      "\n",
      "\n",
      "\n",
      "\n"
     ]
    }
   ],
   "source": [
    "import requests\n",
    "from summa.summarizer import summarize\n",
    "\n",
    "\n",
    "data_2 = data_2[:10]\n",
    "for sentence in data_2[\"text\"]:\n",
    "    rst = summarize(sentence, ratio = 0.4)\n",
    "    print(\"원문장 : \", sentence,\"\\n\",\"요약문장 :\", rst, \"\\n\\n\\n\\n\")\n"
   ]
  },
  {
   "cell_type": "markdown",
   "id": "7197c42b",
   "metadata": {},
   "source": [
    "## 추상적 요약 VS 추출적 요약 비교\n",
    "\n",
    "### 추상적 요약\n",
    "- 비교적 요약이 잘 되고 문법적으로 매끄러운 요약본을 나타냈다. \n",
    "- 핵심 단어가 있는 문장도 있지만, 문장에 존재하지 않은 새로운 단어로 요약한 경우도 많았다.\n",
    "\n",
    "### 추출적 요약\n",
    "- 비교적 요약이 잘 되지 않고 문법적으로 어색한 문장을 산출했다.\n",
    "- ratio를 줄이니 요약문에 아무것도 뜨지 않았다.\n",
    "- 핵심 단어들은 요약본에 포함되어 산출되었다."
   ]
  },
  {
   "cell_type": "markdown",
   "id": "ca70dab2",
   "metadata": {},
   "source": [
    "# 회고\n",
    "비교적 쉬운 노드였다. 예시에서 적힌대로 그대로 따라가면 되고, 기존에 한번씩 해보았던 전처리라 더욱 편하게 따라갈 수 있었던 듯 하다. 불용어 패키지가 있어 불용어 처리가 굉장히 쉬웠고, 토크나이저도 따로 안만들고 만들어진 것을 가져오니 굉장히 편했다. 추상적 추출을 실습해 봤는데 생각보다 더 추상적으로 요약해서 놀라웠다. 반어법같이, '우와, 가격도 비싸고 성능도 구리고 너무 좋네,,,ㅎㅎㅎ 완전 최고의 제품!!' 같은 냉소적인 말투도 'worst goods' 등으로 축소 요악하는 것이 특히 신기했다. 룰 베이스가 아닌 데이터 베이스라 이런 추측도 가능한 것 같다. 추출적 요약은 그야말로 중요 키워드만 뽑아서 요약하는 기법이였는데, 아무래도 추상적 요약보다 딱딱하고, 위와같이 고차원적인 비난은 가려내지 못했다. 학습에 굉장히 많은 시간이 걸렸다. 알아보니, dropout과 recurrent dropout을 동시에 써서 그런거라고 하더라. 랜덤으로 웨이트들을 삭제해 계산하는 과정이 생각보다 오래 걸린다는 걸 알았다. 급할 때는, recurrent dropout은 제외하고 dropout만 이용해 학습을 진행해야겠다고 느꼈다. 즐거운 실습이였다. "
   ]
  }
 ],
 "metadata": {
  "kernelspec": {
   "display_name": "Python 3 (ipykernel)",
   "language": "python",
   "name": "python3"
  },
  "language_info": {
   "codemirror_mode": {
    "name": "ipython",
    "version": 3
   },
   "file_extension": ".py",
   "mimetype": "text/x-python",
   "name": "python",
   "nbconvert_exporter": "python",
   "pygments_lexer": "ipython3",
   "version": "3.9.7"
  }
 },
 "nbformat": 4,
 "nbformat_minor": 5
}
